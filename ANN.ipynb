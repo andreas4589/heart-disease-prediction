{
 "cells": [
  {
   "cell_type": "code",
   "execution_count": 152,
   "id": "6f808045",
   "metadata": {},
   "outputs": [],
   "source": [
    "# import necessary libraries\n",
    "import numpy as np\n",
    "import pandas as pd\n",
    "from matplotlib import pyplot as plt\n",
    "import seaborn as sns"
   ]
  },
  {
   "cell_type": "code",
   "execution_count": 153,
   "id": "cdceb06c",
   "metadata": {},
   "outputs": [
    {
     "data": {
      "text/html": [
       "<div>\n",
       "<style scoped>\n",
       "    .dataframe tbody tr th:only-of-type {\n",
       "        vertical-align: middle;\n",
       "    }\n",
       "\n",
       "    .dataframe tbody tr th {\n",
       "        vertical-align: top;\n",
       "    }\n",
       "\n",
       "    .dataframe thead th {\n",
       "        text-align: right;\n",
       "    }\n",
       "</style>\n",
       "<table border=\"1\" class=\"dataframe\">\n",
       "  <thead>\n",
       "    <tr style=\"text-align: right;\">\n",
       "      <th></th>\n",
       "      <th>Age</th>\n",
       "      <th>Sex</th>\n",
       "      <th>ChestPainType</th>\n",
       "      <th>RestingBP</th>\n",
       "      <th>Cholesterol</th>\n",
       "      <th>FastingBS</th>\n",
       "      <th>RestingECG</th>\n",
       "      <th>MaxHR</th>\n",
       "      <th>ExerciseAngina</th>\n",
       "      <th>Oldpeak</th>\n",
       "      <th>ST_Slope</th>\n",
       "      <th>HeartDisease</th>\n",
       "    </tr>\n",
       "  </thead>\n",
       "  <tbody>\n",
       "    <tr>\n",
       "      <th>0</th>\n",
       "      <td>40</td>\n",
       "      <td>M</td>\n",
       "      <td>ATA</td>\n",
       "      <td>140</td>\n",
       "      <td>289</td>\n",
       "      <td>0</td>\n",
       "      <td>Normal</td>\n",
       "      <td>172</td>\n",
       "      <td>N</td>\n",
       "      <td>0.0</td>\n",
       "      <td>Up</td>\n",
       "      <td>0</td>\n",
       "    </tr>\n",
       "    <tr>\n",
       "      <th>1</th>\n",
       "      <td>49</td>\n",
       "      <td>F</td>\n",
       "      <td>NAP</td>\n",
       "      <td>160</td>\n",
       "      <td>180</td>\n",
       "      <td>0</td>\n",
       "      <td>Normal</td>\n",
       "      <td>156</td>\n",
       "      <td>N</td>\n",
       "      <td>1.0</td>\n",
       "      <td>Flat</td>\n",
       "      <td>1</td>\n",
       "    </tr>\n",
       "    <tr>\n",
       "      <th>2</th>\n",
       "      <td>37</td>\n",
       "      <td>M</td>\n",
       "      <td>ATA</td>\n",
       "      <td>130</td>\n",
       "      <td>283</td>\n",
       "      <td>0</td>\n",
       "      <td>ST</td>\n",
       "      <td>98</td>\n",
       "      <td>N</td>\n",
       "      <td>0.0</td>\n",
       "      <td>Up</td>\n",
       "      <td>0</td>\n",
       "    </tr>\n",
       "    <tr>\n",
       "      <th>3</th>\n",
       "      <td>48</td>\n",
       "      <td>F</td>\n",
       "      <td>ASY</td>\n",
       "      <td>138</td>\n",
       "      <td>214</td>\n",
       "      <td>0</td>\n",
       "      <td>Normal</td>\n",
       "      <td>108</td>\n",
       "      <td>Y</td>\n",
       "      <td>1.5</td>\n",
       "      <td>Flat</td>\n",
       "      <td>1</td>\n",
       "    </tr>\n",
       "    <tr>\n",
       "      <th>4</th>\n",
       "      <td>54</td>\n",
       "      <td>M</td>\n",
       "      <td>NAP</td>\n",
       "      <td>150</td>\n",
       "      <td>195</td>\n",
       "      <td>0</td>\n",
       "      <td>Normal</td>\n",
       "      <td>122</td>\n",
       "      <td>N</td>\n",
       "      <td>0.0</td>\n",
       "      <td>Up</td>\n",
       "      <td>0</td>\n",
       "    </tr>\n",
       "  </tbody>\n",
       "</table>\n",
       "</div>"
      ],
      "text/plain": [
       "   Age Sex ChestPainType  RestingBP  Cholesterol  FastingBS RestingECG  MaxHR  \\\n",
       "0   40   M           ATA        140          289          0     Normal    172   \n",
       "1   49   F           NAP        160          180          0     Normal    156   \n",
       "2   37   M           ATA        130          283          0         ST     98   \n",
       "3   48   F           ASY        138          214          0     Normal    108   \n",
       "4   54   M           NAP        150          195          0     Normal    122   \n",
       "\n",
       "  ExerciseAngina  Oldpeak ST_Slope  HeartDisease  \n",
       "0              N      0.0       Up             0  \n",
       "1              N      1.0     Flat             1  \n",
       "2              N      0.0       Up             0  \n",
       "3              Y      1.5     Flat             1  \n",
       "4              N      0.0       Up             0  "
      ]
     },
     "execution_count": 153,
     "metadata": {},
     "output_type": "execute_result"
    }
   ],
   "source": [
    "# Load the dataset\n",
    "data = pd.read_csv('heart.csv')\n",
    "data.head()"
   ]
  },
  {
   "cell_type": "code",
   "execution_count": 154,
   "id": "bc758a24",
   "metadata": {},
   "outputs": [
    {
     "data": {
      "text/plain": [
       "Age               0\n",
       "Sex               0\n",
       "ChestPainType     0\n",
       "RestingBP         0\n",
       "Cholesterol       0\n",
       "FastingBS         0\n",
       "RestingECG        0\n",
       "MaxHR             0\n",
       "ExerciseAngina    0\n",
       "Oldpeak           0\n",
       "ST_Slope          0\n",
       "HeartDisease      0\n",
       "dtype: int64"
      ]
     },
     "execution_count": 154,
     "metadata": {},
     "output_type": "execute_result"
    }
   ],
   "source": [
    "# Check for missing values\n",
    "data.isnull().sum()"
   ]
  },
  {
   "cell_type": "code",
   "execution_count": 155,
   "id": "6c62d0d8",
   "metadata": {},
   "outputs": [
    {
     "data": {
      "text/plain": [
       "0"
      ]
     },
     "execution_count": 155,
     "metadata": {},
     "output_type": "execute_result"
    }
   ],
   "source": [
    "# Check for duplicates\n",
    "data.duplicated().sum()"
   ]
  },
  {
   "cell_type": "code",
   "execution_count": 156,
   "id": "3792f180",
   "metadata": {},
   "outputs": [
    {
     "data": {
      "text/html": [
       "<div>\n",
       "<style scoped>\n",
       "    .dataframe tbody tr th:only-of-type {\n",
       "        vertical-align: middle;\n",
       "    }\n",
       "\n",
       "    .dataframe tbody tr th {\n",
       "        vertical-align: top;\n",
       "    }\n",
       "\n",
       "    .dataframe thead th {\n",
       "        text-align: right;\n",
       "    }\n",
       "</style>\n",
       "<table border=\"1\" class=\"dataframe\">\n",
       "  <thead>\n",
       "    <tr style=\"text-align: right;\">\n",
       "      <th></th>\n",
       "      <th>count</th>\n",
       "      <th>mean</th>\n",
       "      <th>std</th>\n",
       "      <th>min</th>\n",
       "      <th>25%</th>\n",
       "      <th>50%</th>\n",
       "      <th>75%</th>\n",
       "      <th>max</th>\n",
       "    </tr>\n",
       "  </thead>\n",
       "  <tbody>\n",
       "    <tr>\n",
       "      <th>Age</th>\n",
       "      <td>918.0</td>\n",
       "      <td>53.510893</td>\n",
       "      <td>9.432617</td>\n",
       "      <td>28.0</td>\n",
       "      <td>47.00</td>\n",
       "      <td>54.0</td>\n",
       "      <td>60.0</td>\n",
       "      <td>77.0</td>\n",
       "    </tr>\n",
       "    <tr>\n",
       "      <th>RestingBP</th>\n",
       "      <td>918.0</td>\n",
       "      <td>132.396514</td>\n",
       "      <td>18.514154</td>\n",
       "      <td>0.0</td>\n",
       "      <td>120.00</td>\n",
       "      <td>130.0</td>\n",
       "      <td>140.0</td>\n",
       "      <td>200.0</td>\n",
       "    </tr>\n",
       "    <tr>\n",
       "      <th>Cholesterol</th>\n",
       "      <td>918.0</td>\n",
       "      <td>198.799564</td>\n",
       "      <td>109.384145</td>\n",
       "      <td>0.0</td>\n",
       "      <td>173.25</td>\n",
       "      <td>223.0</td>\n",
       "      <td>267.0</td>\n",
       "      <td>603.0</td>\n",
       "    </tr>\n",
       "    <tr>\n",
       "      <th>FastingBS</th>\n",
       "      <td>918.0</td>\n",
       "      <td>0.233115</td>\n",
       "      <td>0.423046</td>\n",
       "      <td>0.0</td>\n",
       "      <td>0.00</td>\n",
       "      <td>0.0</td>\n",
       "      <td>0.0</td>\n",
       "      <td>1.0</td>\n",
       "    </tr>\n",
       "    <tr>\n",
       "      <th>MaxHR</th>\n",
       "      <td>918.0</td>\n",
       "      <td>136.809368</td>\n",
       "      <td>25.460334</td>\n",
       "      <td>60.0</td>\n",
       "      <td>120.00</td>\n",
       "      <td>138.0</td>\n",
       "      <td>156.0</td>\n",
       "      <td>202.0</td>\n",
       "    </tr>\n",
       "    <tr>\n",
       "      <th>Oldpeak</th>\n",
       "      <td>918.0</td>\n",
       "      <td>0.887364</td>\n",
       "      <td>1.066570</td>\n",
       "      <td>-2.6</td>\n",
       "      <td>0.00</td>\n",
       "      <td>0.6</td>\n",
       "      <td>1.5</td>\n",
       "      <td>6.2</td>\n",
       "    </tr>\n",
       "    <tr>\n",
       "      <th>HeartDisease</th>\n",
       "      <td>918.0</td>\n",
       "      <td>0.553377</td>\n",
       "      <td>0.497414</td>\n",
       "      <td>0.0</td>\n",
       "      <td>0.00</td>\n",
       "      <td>1.0</td>\n",
       "      <td>1.0</td>\n",
       "      <td>1.0</td>\n",
       "    </tr>\n",
       "  </tbody>\n",
       "</table>\n",
       "</div>"
      ],
      "text/plain": [
       "              count        mean         std   min     25%    50%    75%    max\n",
       "Age           918.0   53.510893    9.432617  28.0   47.00   54.0   60.0   77.0\n",
       "RestingBP     918.0  132.396514   18.514154   0.0  120.00  130.0  140.0  200.0\n",
       "Cholesterol   918.0  198.799564  109.384145   0.0  173.25  223.0  267.0  603.0\n",
       "FastingBS     918.0    0.233115    0.423046   0.0    0.00    0.0    0.0    1.0\n",
       "MaxHR         918.0  136.809368   25.460334  60.0  120.00  138.0  156.0  202.0\n",
       "Oldpeak       918.0    0.887364    1.066570  -2.6    0.00    0.6    1.5    6.2\n",
       "HeartDisease  918.0    0.553377    0.497414   0.0    0.00    1.0    1.0    1.0"
      ]
     },
     "execution_count": 156,
     "metadata": {},
     "output_type": "execute_result"
    }
   ],
   "source": [
    "# Descriptive statistics for numerical features\n",
    "data.describe().T"
   ]
  },
  {
   "cell_type": "code",
   "execution_count": 157,
   "id": "f4a93874",
   "metadata": {},
   "outputs": [
    {
     "data": {
      "text/html": [
       "<div>\n",
       "<style scoped>\n",
       "    .dataframe tbody tr th:only-of-type {\n",
       "        vertical-align: middle;\n",
       "    }\n",
       "\n",
       "    .dataframe tbody tr th {\n",
       "        vertical-align: top;\n",
       "    }\n",
       "\n",
       "    .dataframe thead th {\n",
       "        text-align: right;\n",
       "    }\n",
       "</style>\n",
       "<table border=\"1\" class=\"dataframe\">\n",
       "  <thead>\n",
       "    <tr style=\"text-align: right;\">\n",
       "      <th></th>\n",
       "      <th>count</th>\n",
       "      <th>unique</th>\n",
       "      <th>top</th>\n",
       "      <th>freq</th>\n",
       "    </tr>\n",
       "  </thead>\n",
       "  <tbody>\n",
       "    <tr>\n",
       "      <th>Sex</th>\n",
       "      <td>918</td>\n",
       "      <td>2</td>\n",
       "      <td>M</td>\n",
       "      <td>725</td>\n",
       "    </tr>\n",
       "    <tr>\n",
       "      <th>ChestPainType</th>\n",
       "      <td>918</td>\n",
       "      <td>4</td>\n",
       "      <td>ASY</td>\n",
       "      <td>496</td>\n",
       "    </tr>\n",
       "    <tr>\n",
       "      <th>RestingECG</th>\n",
       "      <td>918</td>\n",
       "      <td>3</td>\n",
       "      <td>Normal</td>\n",
       "      <td>552</td>\n",
       "    </tr>\n",
       "    <tr>\n",
       "      <th>ExerciseAngina</th>\n",
       "      <td>918</td>\n",
       "      <td>2</td>\n",
       "      <td>N</td>\n",
       "      <td>547</td>\n",
       "    </tr>\n",
       "    <tr>\n",
       "      <th>ST_Slope</th>\n",
       "      <td>918</td>\n",
       "      <td>3</td>\n",
       "      <td>Flat</td>\n",
       "      <td>460</td>\n",
       "    </tr>\n",
       "  </tbody>\n",
       "</table>\n",
       "</div>"
      ],
      "text/plain": [
       "               count unique     top freq\n",
       "Sex              918      2       M  725\n",
       "ChestPainType    918      4     ASY  496\n",
       "RestingECG       918      3  Normal  552\n",
       "ExerciseAngina   918      2       N  547\n",
       "ST_Slope         918      3    Flat  460"
      ]
     },
     "execution_count": 157,
     "metadata": {},
     "output_type": "execute_result"
    }
   ],
   "source": [
    "# Descriptive statistics for categorical variables\n",
    "data.describe(include=\"object\").T"
   ]
  },
  {
   "cell_type": "code",
   "execution_count": 158,
   "id": "a593bbcd",
   "metadata": {},
   "outputs": [
    {
     "data": {
      "image/png": "[encoded data removed]",
      "text/plain": [
       "<Figure size 432x288 with 1 Axes>"
      ]
     },
     "metadata": {
      "needs_background": "light"
     },
     "output_type": "display_data"
    },
    {
     "data": {
      "image/png": "[encoded data removed]",
      "text/plain": [
       "<Figure size 432x288 with 1 Axes>"
      ]
     },
     "metadata": {
      "needs_background": "light"
     },
     "output_type": "display_data"
    },
    {
     "data": {
      "image/png": "[encoded data removed]",
      "text/plain": [
       "<Figure size 432x288 with 1 Axes>"
      ]
     },
     "metadata": {
      "needs_background": "light"
     },
     "output_type": "display_data"
    },
    {
     "data": {
      "image/png": "[encoded data removed]",
      "text/plain": [
       "<Figure size 432x288 with 1 Axes>"
      ]
     },
     "metadata": {
      "needs_background": "light"
     },
     "output_type": "display_data"
    },
    {
     "data": {
      "image/png": "[encoded data removed]",
      "text/plain": [
       "<Figure size 432x288 with 1 Axes>"
      ]
     },
     "metadata": {
      "needs_background": "light"
     },
     "output_type": "display_data"
    },
    {
     "data": {
      "image/png": "[encoded data removed]",
      "text/plain": [
       "<Figure size 432x288 with 1 Axes>"
      ]
     },
     "metadata": {
      "needs_background": "light"
     },
     "output_type": "display_data"
    },
    {
     "data": {
      "image/png": "[encoded data removed]",
      "text/plain": [
       "<Figure size 432x288 with 1 Axes>"
      ]
     },
     "metadata": {
      "needs_background": "light"
     },
     "output_type": "display_data"
    }
   ],
   "source": [
    "# Histograms for numerical features\n",
    "for i in data.select_dtypes(include=\"number\").columns:\n",
    "    sns.histplot(data=data, x=i)\n",
    "    plt.show()"
   ]
  },
  {
   "cell_type": "code",
   "execution_count": 159,
   "id": "fad8f075",
   "metadata": {},
   "outputs": [
    {
     "data": {
      "image/png": "[encoded data removed]",
      "text/plain": [
       "<Figure size 432x288 with 1 Axes>"
      ]
     },
     "metadata": {
      "needs_background": "light"
     },
     "output_type": "display_data"
    },
    {
     "data": {
      "image/png": "[encoded data removed]",
      "text/plain": [
       "<Figure size 432x288 with 1 Axes>"
      ]
     },
     "metadata": {
      "needs_background": "light"
     },
     "output_type": "display_data"
    },
    {
     "data": {
      "image/png": "[encoded data removed]",
      "text/plain": [
       "<Figure size 432x288 with 1 Axes>"
      ]
     },
     "metadata": {
      "needs_background": "light"
     },
     "output_type": "display_data"
    },
    {
     "data": {
      "image/png": "[encoded data removed]",
      "text/plain": [
       "<Figure size 432x288 with 1 Axes>"
      ]
     },
     "metadata": {
      "needs_background": "light"
     },
     "output_type": "display_data"
    },
    {
     "data": {
      "image/png": "[encoded data removed]",
      "text/plain": [
       "<Figure size 432x288 with 1 Axes>"
      ]
     },
     "metadata": {
      "needs_background": "light"
     },
     "output_type": "display_data"
    },
    {
     "data": {
      "image/png": "[encoded data removed]",
      "text/plain": [
       "<Figure size 432x288 with 1 Axes>"
      ]
     },
     "metadata": {
      "needs_background": "light"
     },
     "output_type": "display_data"
    },
    {
     "data": {
      "image/png": "[encoded data removed]",
      "text/plain": [
       "<Figure size 432x288 with 1 Axes>"
      ]
     },
     "metadata": {
      "needs_background": "light"
     },
     "output_type": "display_data"
    }
   ],
   "source": [
    "# Boxplot to indentify outliers\n",
    "for i in data.select_dtypes(include=\"number\").columns:\n",
    "    sns.boxplot(data=data, x=i)\n",
    "    plt.show()"
   ]
  },
  {
   "cell_type": "code",
   "execution_count": 160,
   "id": "6ab376f6",
   "metadata": {},
   "outputs": [
    {
     "data": {
      "image/png": "[encoded data removed]",
      "text/plain": [
       "<Figure size 720x576 with 2 Axes>"
      ]
     },
     "metadata": {
      "needs_background": "light"
     },
     "output_type": "display_data"
    }
   ],
   "source": [
    "corr = data.select_dtypes(include=\"number\").corr()\n",
    "\n",
    "# Create a mask for the upper triangle\n",
    "mask = np.triu(np.ones_like(corr, dtype=bool))\n",
    "\n",
    "# Create the heatmap\n",
    "plt.figure(figsize=(10, 8))\n",
    "sns.heatmap(corr, mask=mask, annot=True, cmap='coolwarm', fmt=\".2f\", square=True)\n",
    "plt.title(\"Correlation Heatmap (Lower Triangle Only)\")\n",
    "plt.show()"
   ]
  },
  {
   "cell_type": "markdown",
   "id": "cfade9aa",
   "metadata": {},
   "source": [
    "## Zero value treatment"
   ]
  },
  {
   "cell_type": "code",
   "execution_count": 161,
   "id": "5e79523a",
   "metadata": {},
   "outputs": [],
   "source": [
    "# Handle missing(zero) cholesterol values\n",
    "data['Cholesterol'] = data['Cholesterol'].replace(0, np.nan)\n",
    "median_chol = data['Cholesterol'].median()\n",
    "data['Cholesterol'].fillna(median_chol, inplace=True)\n"
   ]
  },
  {
   "cell_type": "markdown",
   "id": "8af1795c",
   "metadata": {},
   "source": [
    "## Encoding the data"
   ]
  },
  {
   "cell_type": "code",
   "execution_count": 162,
   "id": "fee15544",
   "metadata": {},
   "outputs": [],
   "source": [
    "# Handle zero resting blood pressure value\n",
    "for i in data[data[\"RestingBP\"] == 0].index:\n",
    "    data.drop(index=i, inplace=True)"
   ]
  },
  {
   "cell_type": "code",
   "execution_count": 163,
   "id": "e8ff89c5",
   "metadata": {},
   "outputs": [],
   "source": [
    "# Handle oldpeak values below zero\n",
    "for i in data[data[\"Oldpeak\"] < 0].index:\n",
    "    data.drop(index=i, inplace=True)"
   ]
  },
  {
   "cell_type": "code",
   "execution_count": 164,
   "id": "1e960343",
   "metadata": {},
   "outputs": [
    {
     "data": {
      "text/html": [
       "<div>\n",
       "<style scoped>\n",
       "    .dataframe tbody tr th:only-of-type {\n",
       "        vertical-align: middle;\n",
       "    }\n",
       "\n",
       "    .dataframe tbody tr th {\n",
       "        vertical-align: top;\n",
       "    }\n",
       "\n",
       "    .dataframe thead th {\n",
       "        text-align: right;\n",
       "    }\n",
       "</style>\n",
       "<table border=\"1\" class=\"dataframe\">\n",
       "  <thead>\n",
       "    <tr style=\"text-align: right;\">\n",
       "      <th></th>\n",
       "      <th>Age</th>\n",
       "      <th>RestingBP</th>\n",
       "      <th>Cholesterol</th>\n",
       "      <th>FastingBS</th>\n",
       "      <th>MaxHR</th>\n",
       "      <th>Oldpeak</th>\n",
       "      <th>HeartDisease</th>\n",
       "      <th>Sex_F</th>\n",
       "      <th>Sex_M</th>\n",
       "      <th>ExerciseAngina_N</th>\n",
       "      <th>...</th>\n",
       "      <th>ChestPainType_ASY</th>\n",
       "      <th>ChestPainType_ATA</th>\n",
       "      <th>ChestPainType_NAP</th>\n",
       "      <th>ChestPainType_TA</th>\n",
       "      <th>RestingECG_LVH</th>\n",
       "      <th>RestingECG_Normal</th>\n",
       "      <th>RestingECG_ST</th>\n",
       "      <th>ST_Slope_Down</th>\n",
       "      <th>ST_Slope_Flat</th>\n",
       "      <th>ST_Slope_Up</th>\n",
       "    </tr>\n",
       "  </thead>\n",
       "  <tbody>\n",
       "    <tr>\n",
       "      <th>0</th>\n",
       "      <td>40</td>\n",
       "      <td>140</td>\n",
       "      <td>289.0</td>\n",
       "      <td>0</td>\n",
       "      <td>172</td>\n",
       "      <td>0.0</td>\n",
       "      <td>0</td>\n",
       "      <td>0</td>\n",
       "      <td>1</td>\n",
       "      <td>1</td>\n",
       "      <td>...</td>\n",
       "      <td>0</td>\n",
       "      <td>1</td>\n",
       "      <td>0</td>\n",
       "      <td>0</td>\n",
       "      <td>0</td>\n",
       "      <td>1</td>\n",
       "      <td>0</td>\n",
       "      <td>0</td>\n",
       "      <td>0</td>\n",
       "      <td>1</td>\n",
       "    </tr>\n",
       "    <tr>\n",
       "      <th>1</th>\n",
       "      <td>49</td>\n",
       "      <td>160</td>\n",
       "      <td>180.0</td>\n",
       "      <td>0</td>\n",
       "      <td>156</td>\n",
       "      <td>1.0</td>\n",
       "      <td>1</td>\n",
       "      <td>1</td>\n",
       "      <td>0</td>\n",
       "      <td>1</td>\n",
       "      <td>...</td>\n",
       "      <td>0</td>\n",
       "      <td>0</td>\n",
       "      <td>1</td>\n",
       "      <td>0</td>\n",
       "      <td>0</td>\n",
       "      <td>1</td>\n",
       "      <td>0</td>\n",
       "      <td>0</td>\n",
       "      <td>1</td>\n",
       "      <td>0</td>\n",
       "    </tr>\n",
       "    <tr>\n",
       "      <th>2</th>\n",
       "      <td>37</td>\n",
       "      <td>130</td>\n",
       "      <td>283.0</td>\n",
       "      <td>0</td>\n",
       "      <td>98</td>\n",
       "      <td>0.0</td>\n",
       "      <td>0</td>\n",
       "      <td>0</td>\n",
       "      <td>1</td>\n",
       "      <td>1</td>\n",
       "      <td>...</td>\n",
       "      <td>0</td>\n",
       "      <td>1</td>\n",
       "      <td>0</td>\n",
       "      <td>0</td>\n",
       "      <td>0</td>\n",
       "      <td>0</td>\n",
       "      <td>1</td>\n",
       "      <td>0</td>\n",
       "      <td>0</td>\n",
       "      <td>1</td>\n",
       "    </tr>\n",
       "    <tr>\n",
       "      <th>3</th>\n",
       "      <td>48</td>\n",
       "      <td>138</td>\n",
       "      <td>214.0</td>\n",
       "      <td>0</td>\n",
       "      <td>108</td>\n",
       "      <td>1.5</td>\n",
       "      <td>1</td>\n",
       "      <td>1</td>\n",
       "      <td>0</td>\n",
       "      <td>0</td>\n",
       "      <td>...</td>\n",
       "      <td>1</td>\n",
       "      <td>0</td>\n",
       "      <td>0</td>\n",
       "      <td>0</td>\n",
       "      <td>0</td>\n",
       "      <td>1</td>\n",
       "      <td>0</td>\n",
       "      <td>0</td>\n",
       "      <td>1</td>\n",
       "      <td>0</td>\n",
       "    </tr>\n",
       "    <tr>\n",
       "      <th>4</th>\n",
       "      <td>54</td>\n",
       "      <td>150</td>\n",
       "      <td>195.0</td>\n",
       "      <td>0</td>\n",
       "      <td>122</td>\n",
       "      <td>0.0</td>\n",
       "      <td>0</td>\n",
       "      <td>0</td>\n",
       "      <td>1</td>\n",
       "      <td>1</td>\n",
       "      <td>...</td>\n",
       "      <td>0</td>\n",
       "      <td>0</td>\n",
       "      <td>1</td>\n",
       "      <td>0</td>\n",
       "      <td>0</td>\n",
       "      <td>1</td>\n",
       "      <td>0</td>\n",
       "      <td>0</td>\n",
       "      <td>0</td>\n",
       "      <td>1</td>\n",
       "    </tr>\n",
       "    <tr>\n",
       "      <th>...</th>\n",
       "      <td>...</td>\n",
       "      <td>...</td>\n",
       "      <td>...</td>\n",
       "      <td>...</td>\n",
       "      <td>...</td>\n",
       "      <td>...</td>\n",
       "      <td>...</td>\n",
       "      <td>...</td>\n",
       "      <td>...</td>\n",
       "      <td>...</td>\n",
       "      <td>...</td>\n",
       "      <td>...</td>\n",
       "      <td>...</td>\n",
       "      <td>...</td>\n",
       "      <td>...</td>\n",
       "      <td>...</td>\n",
       "      <td>...</td>\n",
       "      <td>...</td>\n",
       "      <td>...</td>\n",
       "      <td>...</td>\n",
       "      <td>...</td>\n",
       "    </tr>\n",
       "    <tr>\n",
       "      <th>913</th>\n",
       "      <td>45</td>\n",
       "      <td>110</td>\n",
       "      <td>264.0</td>\n",
       "      <td>0</td>\n",
       "      <td>132</td>\n",
       "      <td>1.2</td>\n",
       "      <td>1</td>\n",
       "      <td>0</td>\n",
       "      <td>1</td>\n",
       "      <td>1</td>\n",
       "      <td>...</td>\n",
       "      <td>0</td>\n",
       "      <td>0</td>\n",
       "      <td>0</td>\n",
       "      <td>1</td>\n",
       "      <td>0</td>\n",
       "      <td>1</td>\n",
       "      <td>0</td>\n",
       "      <td>0</td>\n",
       "      <td>1</td>\n",
       "      <td>0</td>\n",
       "    </tr>\n",
       "    <tr>\n",
       "      <th>914</th>\n",
       "      <td>68</td>\n",
       "      <td>144</td>\n",
       "      <td>193.0</td>\n",
       "      <td>1</td>\n",
       "      <td>141</td>\n",
       "      <td>3.4</td>\n",
       "      <td>1</td>\n",
       "      <td>0</td>\n",
       "      <td>1</td>\n",
       "      <td>1</td>\n",
       "      <td>...</td>\n",
       "      <td>1</td>\n",
       "      <td>0</td>\n",
       "      <td>0</td>\n",
       "      <td>0</td>\n",
       "      <td>0</td>\n",
       "      <td>1</td>\n",
       "      <td>0</td>\n",
       "      <td>0</td>\n",
       "      <td>1</td>\n",
       "      <td>0</td>\n",
       "    </tr>\n",
       "    <tr>\n",
       "      <th>915</th>\n",
       "      <td>57</td>\n",
       "      <td>130</td>\n",
       "      <td>131.0</td>\n",
       "      <td>0</td>\n",
       "      <td>115</td>\n",
       "      <td>1.2</td>\n",
       "      <td>1</td>\n",
       "      <td>0</td>\n",
       "      <td>1</td>\n",
       "      <td>0</td>\n",
       "      <td>...</td>\n",
       "      <td>1</td>\n",
       "      <td>0</td>\n",
       "      <td>0</td>\n",
       "      <td>0</td>\n",
       "      <td>0</td>\n",
       "      <td>1</td>\n",
       "      <td>0</td>\n",
       "      <td>0</td>\n",
       "      <td>1</td>\n",
       "      <td>0</td>\n",
       "    </tr>\n",
       "    <tr>\n",
       "      <th>916</th>\n",
       "      <td>57</td>\n",
       "      <td>130</td>\n",
       "      <td>236.0</td>\n",
       "      <td>0</td>\n",
       "      <td>174</td>\n",
       "      <td>0.0</td>\n",
       "      <td>1</td>\n",
       "      <td>1</td>\n",
       "      <td>0</td>\n",
       "      <td>1</td>\n",
       "      <td>...</td>\n",
       "      <td>0</td>\n",
       "      <td>1</td>\n",
       "      <td>0</td>\n",
       "      <td>0</td>\n",
       "      <td>1</td>\n",
       "      <td>0</td>\n",
       "      <td>0</td>\n",
       "      <td>0</td>\n",
       "      <td>1</td>\n",
       "      <td>0</td>\n",
       "    </tr>\n",
       "    <tr>\n",
       "      <th>917</th>\n",
       "      <td>38</td>\n",
       "      <td>138</td>\n",
       "      <td>175.0</td>\n",
       "      <td>0</td>\n",
       "      <td>173</td>\n",
       "      <td>0.0</td>\n",
       "      <td>0</td>\n",
       "      <td>0</td>\n",
       "      <td>1</td>\n",
       "      <td>1</td>\n",
       "      <td>...</td>\n",
       "      <td>0</td>\n",
       "      <td>0</td>\n",
       "      <td>1</td>\n",
       "      <td>0</td>\n",
       "      <td>0</td>\n",
       "      <td>1</td>\n",
       "      <td>0</td>\n",
       "      <td>0</td>\n",
       "      <td>0</td>\n",
       "      <td>1</td>\n",
       "    </tr>\n",
       "  </tbody>\n",
       "</table>\n",
       "<p>904 rows × 21 columns</p>\n",
       "</div>"
      ],
      "text/plain": [
       "     Age  RestingBP  Cholesterol  FastingBS  MaxHR  Oldpeak  HeartDisease  \\\n",
       "0     40        140        289.0          0    172      0.0             0   \n",
       "1     49        160        180.0          0    156      1.0             1   \n",
       "2     37        130        283.0          0     98      0.0             0   \n",
       "3     48        138        214.0          0    108      1.5             1   \n",
       "4     54        150        195.0          0    122      0.0             0   \n",
       "..   ...        ...          ...        ...    ...      ...           ...   \n",
       "913   45        110        264.0          0    132      1.2             1   \n",
       "914   68        144        193.0          1    141      3.4             1   \n",
       "915   57        130        131.0          0    115      1.2             1   \n",
       "916   57        130        236.0          0    174      0.0             1   \n",
       "917   38        138        175.0          0    173      0.0             0   \n",
       "\n",
       "     Sex_F  Sex_M  ExerciseAngina_N  ...  ChestPainType_ASY  \\\n",
       "0        0      1                 1  ...                  0   \n",
       "1        1      0                 1  ...                  0   \n",
       "2        0      1                 1  ...                  0   \n",
       "3        1      0                 0  ...                  1   \n",
       "4        0      1                 1  ...                  0   \n",
       "..     ...    ...               ...  ...                ...   \n",
       "913      0      1                 1  ...                  0   \n",
       "914      0      1                 1  ...                  1   \n",
       "915      0      1                 0  ...                  1   \n",
       "916      1      0                 1  ...                  0   \n",
       "917      0      1                 1  ...                  0   \n",
       "\n",
       "     ChestPainType_ATA  ChestPainType_NAP  ChestPainType_TA  RestingECG_LVH  \\\n",
       "0                    1                  0                 0               0   \n",
       "1                    0                  1                 0               0   \n",
       "2                    1                  0                 0               0   \n",
       "3                    0                  0                 0               0   \n",
       "4                    0                  1                 0               0   \n",
       "..                 ...                ...               ...             ...   \n",
       "913                  0                  0                 1               0   \n",
       "914                  0                  0                 0               0   \n",
       "915                  0                  0                 0               0   \n",
       "916                  1                  0                 0               1   \n",
       "917                  0                  1                 0               0   \n",
       "\n",
       "     RestingECG_Normal  RestingECG_ST  ST_Slope_Down  ST_Slope_Flat  \\\n",
       "0                    1              0              0              0   \n",
       "1                    1              0              0              1   \n",
       "2                    0              1              0              0   \n",
       "3                    1              0              0              1   \n",
       "4                    1              0              0              0   \n",
       "..                 ...            ...            ...            ...   \n",
       "913                  1              0              0              1   \n",
       "914                  1              0              0              1   \n",
       "915                  1              0              0              1   \n",
       "916                  0              0              0              1   \n",
       "917                  1              0              0              0   \n",
       "\n",
       "     ST_Slope_Up  \n",
       "0              1  \n",
       "1              0  \n",
       "2              1  \n",
       "3              0  \n",
       "4              1  \n",
       "..           ...  \n",
       "913            0  \n",
       "914            0  \n",
       "915            0  \n",
       "916            0  \n",
       "917            1  \n",
       "\n",
       "[904 rows x 21 columns]"
      ]
     },
     "execution_count": 164,
     "metadata": {},
     "output_type": "execute_result"
    }
   ],
   "source": [
    "# Make dummy (one-hot encode) variables for categorical features\n",
    "data = pd.get_dummies(data=data, columns=[\"Sex\", \"ExerciseAngina\", \"ChestPainType\", \"RestingECG\", \"ST_Slope\"], drop_first= False)\n",
    "\n",
    "data"
   ]
  },
  {
   "cell_type": "code",
   "execution_count": 165,
   "id": "7adb8ce4",
   "metadata": {},
   "outputs": [
    {
     "data": {
      "text/html": [
       "<div>\n",
       "<style scoped>\n",
       "    .dataframe tbody tr th:only-of-type {\n",
       "        vertical-align: middle;\n",
       "    }\n",
       "\n",
       "    .dataframe tbody tr th {\n",
       "        vertical-align: top;\n",
       "    }\n",
       "\n",
       "    .dataframe thead th {\n",
       "        text-align: right;\n",
       "    }\n",
       "</style>\n",
       "<table border=\"1\" class=\"dataframe\">\n",
       "  <thead>\n",
       "    <tr style=\"text-align: right;\">\n",
       "      <th></th>\n",
       "      <th>HeartDisease</th>\n",
       "      <th>Age</th>\n",
       "      <th>RestingBP</th>\n",
       "      <th>Cholesterol</th>\n",
       "      <th>FastingBS</th>\n",
       "      <th>MaxHR</th>\n",
       "      <th>Oldpeak</th>\n",
       "      <th>Sex_F</th>\n",
       "      <th>Sex_M</th>\n",
       "      <th>ExerciseAngina_N</th>\n",
       "      <th>ExerciseAngina_Y</th>\n",
       "      <th>ChestPainType_ASY</th>\n",
       "      <th>RestingECG_LVH</th>\n",
       "      <th>ST_Slope_Flat</th>\n",
       "      <th>ST_Slope_Up</th>\n",
       "    </tr>\n",
       "  </thead>\n",
       "  <tbody>\n",
       "    <tr>\n",
       "      <th>0</th>\n",
       "      <td>0</td>\n",
       "      <td>40</td>\n",
       "      <td>140</td>\n",
       "      <td>289.0</td>\n",
       "      <td>0</td>\n",
       "      <td>172</td>\n",
       "      <td>0.0</td>\n",
       "      <td>0</td>\n",
       "      <td>1</td>\n",
       "      <td>1</td>\n",
       "      <td>0</td>\n",
       "      <td>0</td>\n",
       "      <td>0</td>\n",
       "      <td>0</td>\n",
       "      <td>1</td>\n",
       "    </tr>\n",
       "    <tr>\n",
       "      <th>1</th>\n",
       "      <td>1</td>\n",
       "      <td>49</td>\n",
       "      <td>160</td>\n",
       "      <td>180.0</td>\n",
       "      <td>0</td>\n",
       "      <td>156</td>\n",
       "      <td>1.0</td>\n",
       "      <td>1</td>\n",
       "      <td>0</td>\n",
       "      <td>1</td>\n",
       "      <td>0</td>\n",
       "      <td>0</td>\n",
       "      <td>0</td>\n",
       "      <td>1</td>\n",
       "      <td>0</td>\n",
       "    </tr>\n",
       "    <tr>\n",
       "      <th>2</th>\n",
       "      <td>0</td>\n",
       "      <td>37</td>\n",
       "      <td>130</td>\n",
       "      <td>283.0</td>\n",
       "      <td>0</td>\n",
       "      <td>98</td>\n",
       "      <td>0.0</td>\n",
       "      <td>0</td>\n",
       "      <td>1</td>\n",
       "      <td>1</td>\n",
       "      <td>0</td>\n",
       "      <td>0</td>\n",
       "      <td>0</td>\n",
       "      <td>0</td>\n",
       "      <td>1</td>\n",
       "    </tr>\n",
       "    <tr>\n",
       "      <th>3</th>\n",
       "      <td>1</td>\n",
       "      <td>48</td>\n",
       "      <td>138</td>\n",
       "      <td>214.0</td>\n",
       "      <td>0</td>\n",
       "      <td>108</td>\n",
       "      <td>1.5</td>\n",
       "      <td>1</td>\n",
       "      <td>0</td>\n",
       "      <td>0</td>\n",
       "      <td>1</td>\n",
       "      <td>1</td>\n",
       "      <td>0</td>\n",
       "      <td>1</td>\n",
       "      <td>0</td>\n",
       "    </tr>\n",
       "    <tr>\n",
       "      <th>4</th>\n",
       "      <td>0</td>\n",
       "      <td>54</td>\n",
       "      <td>150</td>\n",
       "      <td>195.0</td>\n",
       "      <td>0</td>\n",
       "      <td>122</td>\n",
       "      <td>0.0</td>\n",
       "      <td>0</td>\n",
       "      <td>1</td>\n",
       "      <td>1</td>\n",
       "      <td>0</td>\n",
       "      <td>0</td>\n",
       "      <td>0</td>\n",
       "      <td>0</td>\n",
       "      <td>1</td>\n",
       "    </tr>\n",
       "    <tr>\n",
       "      <th>...</th>\n",
       "      <td>...</td>\n",
       "      <td>...</td>\n",
       "      <td>...</td>\n",
       "      <td>...</td>\n",
       "      <td>...</td>\n",
       "      <td>...</td>\n",
       "      <td>...</td>\n",
       "      <td>...</td>\n",
       "      <td>...</td>\n",
       "      <td>...</td>\n",
       "      <td>...</td>\n",
       "      <td>...</td>\n",
       "      <td>...</td>\n",
       "      <td>...</td>\n",
       "      <td>...</td>\n",
       "    </tr>\n",
       "    <tr>\n",
       "      <th>913</th>\n",
       "      <td>1</td>\n",
       "      <td>45</td>\n",
       "      <td>110</td>\n",
       "      <td>264.0</td>\n",
       "      <td>0</td>\n",
       "      <td>132</td>\n",
       "      <td>1.2</td>\n",
       "      <td>0</td>\n",
       "      <td>1</td>\n",
       "      <td>1</td>\n",
       "      <td>0</td>\n",
       "      <td>0</td>\n",
       "      <td>0</td>\n",
       "      <td>1</td>\n",
       "      <td>0</td>\n",
       "    </tr>\n",
       "    <tr>\n",
       "      <th>914</th>\n",
       "      <td>1</td>\n",
       "      <td>68</td>\n",
       "      <td>144</td>\n",
       "      <td>193.0</td>\n",
       "      <td>1</td>\n",
       "      <td>141</td>\n",
       "      <td>3.4</td>\n",
       "      <td>0</td>\n",
       "      <td>1</td>\n",
       "      <td>1</td>\n",
       "      <td>0</td>\n",
       "      <td>1</td>\n",
       "      <td>0</td>\n",
       "      <td>1</td>\n",
       "      <td>0</td>\n",
       "    </tr>\n",
       "    <tr>\n",
       "      <th>915</th>\n",
       "      <td>1</td>\n",
       "      <td>57</td>\n",
       "      <td>130</td>\n",
       "      <td>131.0</td>\n",
       "      <td>0</td>\n",
       "      <td>115</td>\n",
       "      <td>1.2</td>\n",
       "      <td>0</td>\n",
       "      <td>1</td>\n",
       "      <td>0</td>\n",
       "      <td>1</td>\n",
       "      <td>1</td>\n",
       "      <td>0</td>\n",
       "      <td>1</td>\n",
       "      <td>0</td>\n",
       "    </tr>\n",
       "    <tr>\n",
       "      <th>916</th>\n",
       "      <td>1</td>\n",
       "      <td>57</td>\n",
       "      <td>130</td>\n",
       "      <td>236.0</td>\n",
       "      <td>0</td>\n",
       "      <td>174</td>\n",
       "      <td>0.0</td>\n",
       "      <td>1</td>\n",
       "      <td>0</td>\n",
       "      <td>1</td>\n",
       "      <td>0</td>\n",
       "      <td>0</td>\n",
       "      <td>1</td>\n",
       "      <td>1</td>\n",
       "      <td>0</td>\n",
       "    </tr>\n",
       "    <tr>\n",
       "      <th>917</th>\n",
       "      <td>0</td>\n",
       "      <td>38</td>\n",
       "      <td>138</td>\n",
       "      <td>175.0</td>\n",
       "      <td>0</td>\n",
       "      <td>173</td>\n",
       "      <td>0.0</td>\n",
       "      <td>0</td>\n",
       "      <td>1</td>\n",
       "      <td>1</td>\n",
       "      <td>0</td>\n",
       "      <td>0</td>\n",
       "      <td>0</td>\n",
       "      <td>0</td>\n",
       "      <td>1</td>\n",
       "    </tr>\n",
       "  </tbody>\n",
       "</table>\n",
       "<p>904 rows × 15 columns</p>\n",
       "</div>"
      ],
      "text/plain": [
       "     HeartDisease  Age  RestingBP  Cholesterol  FastingBS  MaxHR  Oldpeak  \\\n",
       "0               0   40        140        289.0          0    172      0.0   \n",
       "1               1   49        160        180.0          0    156      1.0   \n",
       "2               0   37        130        283.0          0     98      0.0   \n",
       "3               1   48        138        214.0          0    108      1.5   \n",
       "4               0   54        150        195.0          0    122      0.0   \n",
       "..            ...  ...        ...          ...        ...    ...      ...   \n",
       "913             1   45        110        264.0          0    132      1.2   \n",
       "914             1   68        144        193.0          1    141      3.4   \n",
       "915             1   57        130        131.0          0    115      1.2   \n",
       "916             1   57        130        236.0          0    174      0.0   \n",
       "917             0   38        138        175.0          0    173      0.0   \n",
       "\n",
       "     Sex_F  Sex_M  ExerciseAngina_N  ExerciseAngina_Y  ChestPainType_ASY  \\\n",
       "0        0      1                 1                 0                  0   \n",
       "1        1      0                 1                 0                  0   \n",
       "2        0      1                 1                 0                  0   \n",
       "3        1      0                 0                 1                  1   \n",
       "4        0      1                 1                 0                  0   \n",
       "..     ...    ...               ...               ...                ...   \n",
       "913      0      1                 1                 0                  0   \n",
       "914      0      1                 1                 0                  1   \n",
       "915      0      1                 0                 1                  1   \n",
       "916      1      0                 1                 0                  0   \n",
       "917      0      1                 1                 0                  0   \n",
       "\n",
       "     RestingECG_LVH  ST_Slope_Flat  ST_Slope_Up  \n",
       "0                 0              0            1  \n",
       "1                 0              1            0  \n",
       "2                 0              0            1  \n",
       "3                 0              1            0  \n",
       "4                 0              0            1  \n",
       "..              ...            ...          ...  \n",
       "913               0              1            0  \n",
       "914               0              1            0  \n",
       "915               0              1            0  \n",
       "916               1              1            0  \n",
       "917               0              0            1  \n",
       "\n",
       "[904 rows x 15 columns]"
      ]
     },
     "execution_count": 165,
     "metadata": {},
     "output_type": "execute_result"
    }
   ],
   "source": [
    "# Move 'HeartDisease' to the front\n",
    "cols = ['HeartDisease'] + [col for col in data.columns if col != 'HeartDisease']\n",
    "data = data[cols]\n",
    "\n",
    "#data = data.drop(columns=[\"RestingBP\", \"Cholesterol\", \"ChestPainType_NAP\", \"ChestPainType_TA\", \n",
    " #                          \"RestingECG_LVH\", \"RestingECG_Normal\", \"RestingECG_ST\", \"ST_Slope_Down\"])\n",
    "#data = data.drop(columns=[\"RestingECG_LVH\", \"RestingECG_Normal\", \"RestingECG_ST\", \"ST_Slope_Down\"])\n",
    "#\"RestingBP\", \"Cholesterol\", \n",
    "\n",
    "# data = data.drop(columns=[\"RestingBP\", \n",
    "#                           \"ChestPainType_NAP\", \n",
    "#                           \"ChestPainType_TA\", \n",
    "#                           \"RestingECG_Normal\", \n",
    "#                           \"RestingECG_ST\"])\n",
    "\n",
    "# Drop columns that are not needed for the analysis\n",
    "data = data.drop(columns=[\n",
    "    \"ChestPainType_TA\",\n",
    "    \"ST_Slope_Down\",\n",
    "    \"RestingECG_ST\",\n",
    "    \"ChestPainType_ATA\",\n",
    "    \"RestingECG_Normal\",\n",
    "    \"ChestPainType_NAP\"\n",
    "    ])\n",
    "\n",
    "feature_names = data.columns[1:]\n",
    "\n",
    "data"
   ]
  },
  {
   "cell_type": "markdown",
   "id": "c3166a0f",
   "metadata": {},
   "source": [
    "## Train - Test Split 80-20"
   ]
  },
  {
   "cell_type": "code",
   "execution_count": 166,
   "id": "e6e17b5e",
   "metadata": {},
   "outputs": [],
   "source": [
    "from sklearn.model_selection import train_test_split\n",
    "from sklearn.preprocessing import StandardScaler\n",
    "\n",
    "# Convert DataFrame to numpy array\n",
    "data = np.array(data)\n",
    "m, n = data.shape\n",
    "\n",
    "# Split the data into features (X) and target (y)\n",
    "X = data.T[1:n].T\n",
    "y = data.T[0]\n",
    "\n",
    "# Split the dataset into training and testing sets\n",
    "X_train, X_test, y_train, y_test = train_test_split(X, y, test_size=0.2, stratify=y, shuffle=True, random_state=8)\n",
    "\n",
    "# Transpose the data to have features in columns and samples in rows\n",
    "X_train = X_train.T\n",
    "X_test = X_test.T\n",
    "\n",
    "# Ensure the target variable is in the correct format\n",
    "y_train = y_train.astype(int)\n",
    "y_test = y_test.astype(int)\n",
    "\n",
    "# Standardize the features\n",
    "scaler = StandardScaler()\n",
    "X_train = scaler.fit_transform(X_train.T).T\n",
    "X_test = scaler.transform(X_test.T).T\n",
    "\n",
    "# Reshape the target variable to ensure it has the correct dimensions\n",
    "y_train = y_train.reshape(1, -1)\n",
    "y_test = y_test.reshape(1, -1)"
   ]
  },
  {
   "cell_type": "markdown",
   "id": "03c5946d",
   "metadata": {},
   "source": [
    "Our ANN has a simple two-layer architecture. The input layer $a^{[0]}$ consists of 14 units, corresponding to the 14 features used in the final dataset. These were derived from an original set of 20 variables, including 5 numerical, 6 categorical, and 9 one-hot encoded dummy variables, with 6 features removed based on feature importance analysis. The hidden layer $a^{[1]}$ contains 10 units with ReLU activation, and the output layer $a^{[2]}$ has 1 unit with sigmoid activation, representing the binary output class. \n",
    "\n",
    "**Forward propagation**\n",
    "\n",
    "$$Z^{[1]} = W^{[1]} A^{[0]} + b^{[1]}$$\n",
    "$$A^{[1]} = {g\\text{ReLU}}(Z^{[1]})$$\n",
    "$$Z^{[2]} = W^{[2]} A^{[1]} + b^{[2]}$$\n",
    "$$A^{[2]} = {g\\text{sigmoid}}(Z^{[2]})$$\n",
    "\n",
    "**Backward propagation**\n",
    "\n",
    "$$dZ^{[2]} = A^{[2]} - Y$$\n",
    "$$dW^{[2]} = \\frac{1}{m} dZ^{[2]} A^{[1]T}$$\n",
    "$$db^{[2]} = \\frac{1}{m} \\Sigma {dZ^{[2]}}$$\n",
    "$$dZ^{[1]} = W^{[2]T} dZ^{[2]}* g^{\\prime} ReLU(z^{[1]})$$\n",
    "$$dW^{[1]} = \\frac{1}{m} dZ^{[1]} A^{[0]T}$$\n",
    "$$db^{[1]} = \\frac{1}{m} \\Sigma {dZ^{[1]}}$$\n",
    "\n",
    "**Parameter updates**\n",
    "\n",
    "$$W^{[2]} := W^{[2]} - \\alpha dW^{[2]}$$\n",
    "$$b^{[2]} := b^{[2]} - \\alpha db^{[2]}$$\n",
    "$$W^{[1]} := W^{[1]} - \\alpha dW^{[1]}$$\n",
    "$$b^{[1]} := b^{[1]} - \\alpha db^{[1]}$$\n",
    "\n",
    "**Vars and shapes**\n",
    "\n",
    "Forward prop\n",
    "\n",
    "- $A^{[0]} = X$: 14 x m\n",
    "- $Z^{[1]} \\sim A^{[1]}$: 10 x m\n",
    "- $W^{[1]}$: 10 x 14 (as $W^{[1]} A^{[0]} \\sim Z^{[1]}$)\n",
    "- $B^{[1]}$: 10 x 1\n",
    "- $Z^{[2]} \\sim A^{[2]}$: 1 x m\n",
    "- $W^{[2]}$: 1 x 10 (as $W^{[2]} A^{[1]} \\sim Z^{[2]}$)\n",
    "- $B^{[2]}$: 1 x 1\n",
    "\n",
    "Backprop\n",
    "\n",
    "- $dZ^{[2]}$: 1 x m ($~A^{[2]}$)\n",
    "- $dW^{[2]}$: 1 x 10\n",
    "- $db^{[2]}$: 1 x 1\n",
    "- $dZ^{[1]}$: 10 x m ($~A^{[1]}$)\n",
    "- $dW^{[1]}$: 10 x 14\n",
    "- $db^{[1]}$: 10 x 1"
   ]
  },
  {
   "cell_type": "code",
   "execution_count": null,
   "id": "508eea13",
   "metadata": {},
   "outputs": [],
   "source": [
    "np.random.seed(8)  # For reproducibility\n",
    "\n",
    "# Initialize parameters for the neural network\n",
    "def init_params():\n",
    "    W1 = np.random.rand(10, n-1) - 0.5 # 10 hidden units, n-1 features\n",
    "    b1 = np.random.rand(10, 1) - 0.5 # Bias for hidden layer\n",
    "    W2 = np.random.rand(1, 10) - 0.5 # Output layer with 1 unit (binary classification)\n",
    "    b2 = np.random.rand(1, 1) - 0.5 # Bias for output layer\n",
    "    return W1, b1, W2, b2\n",
    "\n",
    "# Activation functions and their derivatives\n",
    "def ReLU(Z):\n",
    "    return np.maximum(Z, 0) \n",
    "\n",
    "def sigmoid(Z):\n",
    "    return 1 / (1 + np.exp(-Z))\n",
    "\n",
    "def ReLU_deriv(Z):\n",
    "    return Z > 0\n",
    "    \n",
    "# Forward and backward propagation functions\n",
    "def forward_prop(W1, b1, W2, b2, X):\n",
    "    Z1 = W1.dot(X) + b1\n",
    "    A1 = ReLU(Z1)\n",
    "    Z2 = W2.dot(A1) + b2\n",
    "    A2 = sigmoid(Z2)\n",
    "    return Z1, A1, Z2, A2\n",
    "\n",
    "def backward_prop(Z1, A1, Z2, A2, W1, W2, X, Y):\n",
    "    m = X.shape[1]\n",
    "    dZ2 = A2 - Y \n",
    "    dW2 = 1 / m * dZ2.dot(A1.T)         # derivative of the loss with respect to W2\n",
    "    db2 = 1 / m * np.sum(dZ2)           # derivative of the loss with respect to b2\n",
    "    dZ1 = W2.T.dot(dZ2) * ReLU_deriv(Z1) \n",
    "    dW1 = 1 / m * dZ1.dot(X.T)          # derivative of the loss with respect to W1\n",
    "    db1 = 1 / m * np.sum(dZ1)           # derivative of the loss with respect to b1\n",
    "    return dW1, db1, dW2, db2\n",
    "\n",
    "# Update parameters of the neural network\n",
    "def update_params(W1, b1, W2, b2, dW1, db1, dW2, db2, alpha):\n",
    "    W1 = W1 - alpha * dW1\n",
    "    b1 = b1 - alpha * db1    \n",
    "    W2 = W2 - alpha * dW2  \n",
    "    b2 = b2 - alpha * db2    \n",
    "    return W1, b1, W2, b2\n",
    "\n",
    "# Gradient descent function to train the neural network\n",
    "def gradient_descent(alpha, iterations, verbose=False):\n",
    "    W1, b1, W2, b2 = init_params()\n",
    "\n",
    "    for i in range(iterations):\n",
    "        Z1, A1, Z2, A2 = forward_prop(W1, b1, W2, b2, X_train)\n",
    "        dW1, db1, dW2, db2 = backward_prop(Z1, A1, Z2, A2, W1, W2, X_train, y_train)\n",
    "        W1, b1, W2, b2 = update_params(W1, b1, W2, b2, dW1, db1, dW2, db2, alpha)\n",
    "\n",
    "        if i % 100 == 0: # Print accuracy every 100 iterations\n",
    "            predictions = A2 > 0.5\n",
    "            acc = np.mean(predictions == y_train)\n",
    "            if verbose: print(f\"Iteration {i}: Accuracy = {acc:.4f}\")\n",
    "            \n",
    "    return W1, b1, W2, b2"
   ]
  },
  {
   "cell_type": "markdown",
   "id": "2cb3ebc8",
   "metadata": {},
   "source": [
    "## Training"
   ]
  },
  {
   "cell_type": "code",
   "execution_count": 168,
   "id": "aef00049",
   "metadata": {},
   "outputs": [
    {
     "name": "stdout",
     "output_type": "stream",
     "text": [
      "Iteration 0: Accuracy = 0.4896\n",
      "Iteration 100: Accuracy = 0.5519\n",
      "Iteration 200: Accuracy = 0.6196\n",
      "Iteration 300: Accuracy = 0.6653\n",
      "Iteration 400: Accuracy = 0.7109\n",
      "Iteration 500: Accuracy = 0.7566\n",
      "Iteration 600: Accuracy = 0.7718\n",
      "Iteration 700: Accuracy = 0.8008\n",
      "Iteration 800: Accuracy = 0.8188\n",
      "Iteration 900: Accuracy = 0.8299\n",
      "Iteration 1000: Accuracy = 0.8382\n",
      "Iteration 1100: Accuracy = 0.8451\n",
      "Iteration 1200: Accuracy = 0.8506\n",
      "Iteration 1300: Accuracy = 0.8575\n",
      "Iteration 1400: Accuracy = 0.8603\n",
      "Iteration 1500: Accuracy = 0.8603\n",
      "Iteration 1600: Accuracy = 0.8617\n",
      "Iteration 1700: Accuracy = 0.8603\n",
      "Iteration 1800: Accuracy = 0.8603\n",
      "Iteration 1900: Accuracy = 0.8631\n",
      "Iteration 2000: Accuracy = 0.8645\n",
      "Iteration 2100: Accuracy = 0.8658\n",
      "Iteration 2200: Accuracy = 0.8658\n",
      "Iteration 2300: Accuracy = 0.8672\n",
      "Iteration 2400: Accuracy = 0.8645\n",
      "Iteration 2500: Accuracy = 0.8658\n",
      "Iteration 2600: Accuracy = 0.8658\n",
      "Iteration 2700: Accuracy = 0.8658\n",
      "Iteration 2800: Accuracy = 0.8658\n",
      "Iteration 2900: Accuracy = 0.8658\n",
      "Iteration 3000: Accuracy = 0.8658\n",
      "Iteration 3100: Accuracy = 0.8672\n",
      "Iteration 3200: Accuracy = 0.8658\n",
      "Iteration 3300: Accuracy = 0.8658\n",
      "Iteration 3400: Accuracy = 0.8658\n",
      "Iteration 3500: Accuracy = 0.8672\n",
      "Iteration 3600: Accuracy = 0.8658\n",
      "Iteration 3700: Accuracy = 0.8658\n",
      "Iteration 3800: Accuracy = 0.8672\n",
      "Iteration 3900: Accuracy = 0.8686\n",
      "Iteration 4000: Accuracy = 0.8672\n",
      "Iteration 4100: Accuracy = 0.8672\n",
      "Iteration 4200: Accuracy = 0.8672\n",
      "Iteration 4300: Accuracy = 0.8672\n",
      "Iteration 4400: Accuracy = 0.8672\n",
      "Iteration 4500: Accuracy = 0.8672\n",
      "Iteration 4600: Accuracy = 0.8686\n",
      "Iteration 4700: Accuracy = 0.8686\n",
      "Iteration 4800: Accuracy = 0.8658\n",
      "Iteration 4900: Accuracy = 0.8672\n",
      "Iteration 5000: Accuracy = 0.8672\n",
      "Iteration 5100: Accuracy = 0.8672\n",
      "Iteration 5200: Accuracy = 0.8672\n",
      "Iteration 5300: Accuracy = 0.8658\n",
      "Iteration 5400: Accuracy = 0.8645\n",
      "Iteration 5500: Accuracy = 0.8645\n",
      "Iteration 5600: Accuracy = 0.8631\n",
      "Iteration 5700: Accuracy = 0.8645\n",
      "Iteration 5800: Accuracy = 0.8645\n",
      "Iteration 5900: Accuracy = 0.8645\n",
      "Iteration 6000: Accuracy = 0.8645\n",
      "Iteration 6100: Accuracy = 0.8645\n",
      "Iteration 6200: Accuracy = 0.8658\n",
      "Iteration 6300: Accuracy = 0.8645\n",
      "Iteration 6400: Accuracy = 0.8645\n",
      "Iteration 6500: Accuracy = 0.8658\n",
      "Iteration 6600: Accuracy = 0.8658\n",
      "Iteration 6700: Accuracy = 0.8658\n",
      "Iteration 6800: Accuracy = 0.8658\n",
      "Iteration 6900: Accuracy = 0.8658\n",
      "Iteration 7000: Accuracy = 0.8658\n",
      "Iteration 7100: Accuracy = 0.8658\n",
      "Iteration 7200: Accuracy = 0.8658\n",
      "Iteration 7300: Accuracy = 0.8658\n",
      "Iteration 7400: Accuracy = 0.8658\n",
      "Iteration 7500: Accuracy = 0.8658\n",
      "Iteration 7600: Accuracy = 0.8658\n",
      "Iteration 7700: Accuracy = 0.8658\n",
      "Iteration 7800: Accuracy = 0.8658\n",
      "Iteration 7900: Accuracy = 0.8658\n",
      "Iteration 8000: Accuracy = 0.8658\n",
      "Iteration 8100: Accuracy = 0.8658\n",
      "Iteration 8200: Accuracy = 0.8658\n",
      "Iteration 8300: Accuracy = 0.8658\n",
      "Iteration 8400: Accuracy = 0.8672\n",
      "Iteration 8500: Accuracy = 0.8672\n",
      "Iteration 8600: Accuracy = 0.8672\n",
      "Iteration 8700: Accuracy = 0.8672\n",
      "Iteration 8800: Accuracy = 0.8672\n",
      "Iteration 8900: Accuracy = 0.8672\n",
      "Iteration 9000: Accuracy = 0.8672\n",
      "Iteration 9100: Accuracy = 0.8672\n",
      "Iteration 9200: Accuracy = 0.8672\n",
      "Iteration 9300: Accuracy = 0.8672\n",
      "Iteration 9400: Accuracy = 0.8672\n",
      "Iteration 9500: Accuracy = 0.8672\n",
      "Iteration 9600: Accuracy = 0.8672\n",
      "Iteration 9700: Accuracy = 0.8672\n",
      "Iteration 9800: Accuracy = 0.8672\n",
      "Iteration 9900: Accuracy = 0.8672\n",
      "Iteration 10000: Accuracy = 0.8658\n",
      "Iteration 10100: Accuracy = 0.8658\n",
      "Iteration 10200: Accuracy = 0.8658\n",
      "Iteration 10300: Accuracy = 0.8658\n",
      "Iteration 10400: Accuracy = 0.8658\n",
      "Iteration 10500: Accuracy = 0.8672\n",
      "Iteration 10600: Accuracy = 0.8686\n",
      "Iteration 10700: Accuracy = 0.8686\n",
      "Iteration 10800: Accuracy = 0.8686\n",
      "Iteration 10900: Accuracy = 0.8686\n",
      "Iteration 11000: Accuracy = 0.8686\n",
      "Iteration 11100: Accuracy = 0.8672\n",
      "Iteration 11200: Accuracy = 0.8672\n",
      "Iteration 11300: Accuracy = 0.8672\n",
      "Iteration 11400: Accuracy = 0.8672\n",
      "Iteration 11500: Accuracy = 0.8672\n",
      "Iteration 11600: Accuracy = 0.8672\n",
      "Iteration 11700: Accuracy = 0.8672\n",
      "Iteration 11800: Accuracy = 0.8672\n",
      "Iteration 11900: Accuracy = 0.8672\n",
      "Iteration 12000: Accuracy = 0.8672\n",
      "Iteration 12100: Accuracy = 0.8672\n",
      "Iteration 12200: Accuracy = 0.8672\n",
      "Iteration 12300: Accuracy = 0.8672\n",
      "Iteration 12400: Accuracy = 0.8672\n",
      "Iteration 12500: Accuracy = 0.8672\n",
      "Iteration 12600: Accuracy = 0.8672\n",
      "Iteration 12700: Accuracy = 0.8672\n",
      "Iteration 12800: Accuracy = 0.8672\n",
      "Iteration 12900: Accuracy = 0.8672\n",
      "Iteration 13000: Accuracy = 0.8672\n",
      "Iteration 13100: Accuracy = 0.8672\n",
      "Iteration 13200: Accuracy = 0.8672\n",
      "Iteration 13300: Accuracy = 0.8672\n",
      "Iteration 13400: Accuracy = 0.8672\n",
      "Iteration 13500: Accuracy = 0.8672\n",
      "Iteration 13600: Accuracy = 0.8672\n",
      "Iteration 13700: Accuracy = 0.8672\n",
      "Iteration 13800: Accuracy = 0.8672\n",
      "Iteration 13900: Accuracy = 0.8672\n",
      "Iteration 14000: Accuracy = 0.8672\n",
      "Iteration 14100: Accuracy = 0.8672\n",
      "Iteration 14200: Accuracy = 0.8686\n",
      "Iteration 14300: Accuracy = 0.8686\n",
      "Iteration 14400: Accuracy = 0.8686\n",
      "Iteration 14500: Accuracy = 0.8686\n",
      "Iteration 14600: Accuracy = 0.8686\n",
      "Iteration 14700: Accuracy = 0.8686\n",
      "Iteration 14800: Accuracy = 0.8686\n",
      "Iteration 14900: Accuracy = 0.8686\n",
      "Iteration 15000: Accuracy = 0.8686\n",
      "Iteration 15100: Accuracy = 0.8686\n",
      "Iteration 15200: Accuracy = 0.8686\n",
      "Iteration 15300: Accuracy = 0.8686\n",
      "Iteration 15400: Accuracy = 0.8686\n",
      "Iteration 15500: Accuracy = 0.8686\n",
      "Iteration 15600: Accuracy = 0.8686\n",
      "Iteration 15700: Accuracy = 0.8672\n",
      "Iteration 15800: Accuracy = 0.8672\n",
      "Iteration 15900: Accuracy = 0.8672\n",
      "Iteration 16000: Accuracy = 0.8672\n",
      "Iteration 16100: Accuracy = 0.8672\n",
      "Iteration 16200: Accuracy = 0.8672\n",
      "Iteration 16300: Accuracy = 0.8672\n",
      "Iteration 16400: Accuracy = 0.8658\n",
      "Iteration 16500: Accuracy = 0.8658\n",
      "Iteration 16600: Accuracy = 0.8645\n",
      "Iteration 16700: Accuracy = 0.8645\n",
      "Iteration 16800: Accuracy = 0.8645\n",
      "Iteration 16900: Accuracy = 0.8645\n",
      "Iteration 17000: Accuracy = 0.8645\n",
      "Iteration 17100: Accuracy = 0.8645\n",
      "Iteration 17200: Accuracy = 0.8645\n",
      "Iteration 17300: Accuracy = 0.8658\n",
      "Iteration 17400: Accuracy = 0.8658\n",
      "Iteration 17500: Accuracy = 0.8658\n",
      "Iteration 17600: Accuracy = 0.8658\n",
      "Iteration 17700: Accuracy = 0.8658\n",
      "Iteration 17800: Accuracy = 0.8658\n",
      "Iteration 17900: Accuracy = 0.8658\n",
      "Iteration 18000: Accuracy = 0.8658\n",
      "Iteration 18100: Accuracy = 0.8658\n",
      "Iteration 18200: Accuracy = 0.8658\n",
      "Iteration 18300: Accuracy = 0.8658\n",
      "Iteration 18400: Accuracy = 0.8658\n",
      "Iteration 18500: Accuracy = 0.8658\n",
      "Iteration 18600: Accuracy = 0.8658\n",
      "Iteration 18700: Accuracy = 0.8658\n",
      "Iteration 18800: Accuracy = 0.8645\n",
      "Iteration 18900: Accuracy = 0.8645\n",
      "Iteration 19000: Accuracy = 0.8645\n",
      "Iteration 19100: Accuracy = 0.8631\n",
      "Iteration 19200: Accuracy = 0.8631\n",
      "Iteration 19300: Accuracy = 0.8645\n",
      "Iteration 19400: Accuracy = 0.8645\n",
      "Iteration 19500: Accuracy = 0.8645\n",
      "Iteration 19600: Accuracy = 0.8645\n",
      "Iteration 19700: Accuracy = 0.8645\n",
      "Iteration 19800: Accuracy = 0.8645\n",
      "Iteration 19900: Accuracy = 0.8645\n",
      "Iteration 20000: Accuracy = 0.8645\n",
      "Iteration 20100: Accuracy = 0.8658\n",
      "Iteration 20200: Accuracy = 0.8658\n",
      "Iteration 20300: Accuracy = 0.8658\n",
      "Iteration 20400: Accuracy = 0.8658\n",
      "Iteration 20500: Accuracy = 0.8658\n",
      "Iteration 20600: Accuracy = 0.8658\n",
      "Iteration 20700: Accuracy = 0.8672\n",
      "Iteration 20800: Accuracy = 0.8672\n",
      "Iteration 20900: Accuracy = 0.8672\n",
      "Iteration 21000: Accuracy = 0.8672\n",
      "Iteration 21100: Accuracy = 0.8672\n",
      "Iteration 21200: Accuracy = 0.8672\n",
      "Iteration 21300: Accuracy = 0.8672\n",
      "Iteration 21400: Accuracy = 0.8672\n",
      "Iteration 21500: Accuracy = 0.8672\n",
      "Iteration 21600: Accuracy = 0.8672\n",
      "Iteration 21700: Accuracy = 0.8672\n",
      "Iteration 21800: Accuracy = 0.8672\n",
      "Iteration 21900: Accuracy = 0.8672\n",
      "Iteration 22000: Accuracy = 0.8672\n",
      "Iteration 22100: Accuracy = 0.8672\n",
      "Iteration 22200: Accuracy = 0.8672\n",
      "Iteration 22300: Accuracy = 0.8672\n",
      "Iteration 22400: Accuracy = 0.8672\n",
      "Iteration 22500: Accuracy = 0.8672\n",
      "Iteration 22600: Accuracy = 0.8672\n",
      "Iteration 22700: Accuracy = 0.8672\n",
      "Iteration 22800: Accuracy = 0.8672\n",
      "Iteration 22900: Accuracy = 0.8672\n",
      "Iteration 23000: Accuracy = 0.8672\n",
      "Iteration 23100: Accuracy = 0.8672\n",
      "Iteration 23200: Accuracy = 0.8672\n",
      "Iteration 23300: Accuracy = 0.8672\n",
      "Iteration 23400: Accuracy = 0.8672\n",
      "Iteration 23500: Accuracy = 0.8658\n",
      "Iteration 23600: Accuracy = 0.8658\n",
      "Iteration 23700: Accuracy = 0.8658\n",
      "Iteration 23800: Accuracy = 0.8658\n",
      "Iteration 23900: Accuracy = 0.8658\n",
      "Iteration 24000: Accuracy = 0.8658\n",
      "Iteration 24100: Accuracy = 0.8658\n",
      "Iteration 24200: Accuracy = 0.8658\n",
      "Iteration 24300: Accuracy = 0.8658\n",
      "Iteration 24400: Accuracy = 0.8672\n",
      "Iteration 24500: Accuracy = 0.8672\n",
      "Iteration 24600: Accuracy = 0.8672\n",
      "Iteration 24700: Accuracy = 0.8672\n",
      "Iteration 24800: Accuracy = 0.8672\n",
      "Iteration 24900: Accuracy = 0.8672\n"
     ]
    }
   ],
   "source": [
    "# Train the neural network using gradient descent with 0.003 learning rate and 25000 iterations\n",
    "W1, b1, W2, b2 = gradient_descent(0.003, 25000, verbose=True)"
   ]
  },
  {
   "cell_type": "markdown",
   "id": "a9549b0b",
   "metadata": {},
   "source": [
    "## Making predictions on test set"
   ]
  },
  {
   "cell_type": "code",
   "execution_count": 169,
   "id": "0cfb6f2d",
   "metadata": {},
   "outputs": [],
   "source": [
    "# Helper function to get predictions from the output layer\n",
    "def get_predictions(A2):\n",
    "    return (A2 > 0.5).astype(int)\n",
    "\n",
    "# Function to make predictions using the trained neural network\n",
    "def make_predictions(X, W1, b1, W2, b2):\n",
    "    _, _, _, A2 = forward_prop(W1, b1, W2, b2, X)\n",
    "    predictions = get_predictions(A2)\n",
    "    return predictions, A2\n",
    "\n",
    "# Function to test the prediction for a specific index\n",
    "def test_prediction(index, W1, b1, W2, b2, scaler):\n",
    "    x = X_test[:, index:index+1]\n",
    "    prediction, prediction_prob = make_predictions(x, W1, b1, W2, b2)\n",
    "    label = y_test[0, index]\n",
    "\n",
    "    print(f\"Prediction (prob): {prediction_prob[0, 0]:.4f}\")\n",
    "    print(f\"Predicted Class: {prediction}\")\n",
    "    print(f\"Actual Label: {label}\")\n",
    "\n",
    "    original = scaler.inverse_transform(x.T)  # shape: (1, 20)\n",
    "    print(\"\\nOriginal Input Features:\")\n",
    "    \n",
    "    feature_values = ['28 - 77', '80 - 200', '85 - 603', '1 / 0', '60 - 202', '0 - 6.2', 'Female', 'Male', 'No', 'Yes', 'ASY','LVH', 'Flat', 'Up']\n",
    "    original_values = original.flatten()\n",
    "\n",
    "    for name, fvalue, ovalue in zip(feature_names, feature_values, original_values):\n",
    "        value = 0 if abs(ovalue) < 1e-4 else ovalue\n",
    "        print(f\"{name:<20}: {round(value, 2):<5} ({fvalue})\")"
   ]
  },
  {
   "cell_type": "code",
   "execution_count": 170,
   "id": "771ef41f",
   "metadata": {},
   "outputs": [
    {
     "name": "stdout",
     "output_type": "stream",
     "text": [
      "Sample:  85\n",
      "Prediction (prob): 0.9156\n",
      "Predicted Class: [[1]]\n",
      "Actual Label: 1\n",
      "\n",
      "Original Input Features:\n",
      "Age                 : 60.0  (28 - 77)\n",
      "RestingBP           : 130.0 (80 - 200)\n",
      "Cholesterol         : 206.0 (85 - 603)\n",
      "FastingBS           : 0     (1 / 0)\n",
      "MaxHR               : 132.0 (60 - 202)\n",
      "Oldpeak             : 2.4   (0 - 6.2)\n",
      "Sex_F               : 0     (Female)\n",
      "Sex_M               : 1.0   (Male)\n",
      "ExerciseAngina_N    : 0     (No)\n",
      "ExerciseAngina_Y    : 1.0   (Yes)\n",
      "ChestPainType_ASY   : 1.0   (ASY)\n",
      "RestingECG_LVH      : 1.0   (LVH)\n",
      "ST_Slope_Flat       : 1.0   (Flat)\n",
      "ST_Slope_Up         : 0     (Up)\n"
     ]
    }
   ],
   "source": [
    "import random\n",
    "sample_num = random.randint(0, X_test.shape[1])\n",
    "\n",
    "# Print a prediction for a random sample from the test set\n",
    "# The prediction probability tells us how confident the model is about its prediction\n",
    "# A low probablity indicates a confident negative prediction, while a high probability indicates a confident positive prediction\n",
    "# A probability close to 0.5 indicates uncertainty in the prediction\n",
    "\n",
    "print('Sample: ', sample_num)\n",
    "test_prediction(sample_num, W1, b1, W2, b2, scaler)"
   ]
  },
  {
   "cell_type": "markdown",
   "id": "1748d815",
   "metadata": {},
   "source": [
    "## Metrics"
   ]
  },
  {
   "cell_type": "code",
   "execution_count": 171,
   "id": "7c653af7",
   "metadata": {},
   "outputs": [],
   "source": [
    "from sklearn.metrics import accuracy_score, precision_score, recall_score, f1_score, confusion_matrix, log_loss, roc_auc_score\n",
    "\n",
    "# Function to calculate and print various metrics\n",
    "def get_metrics(predictions, A2, Y):\n",
    "    accuracy = accuracy_score(Y, predictions)\n",
    "    precision = precision_score(Y, predictions)\n",
    "    recall = recall_score(Y, predictions)\n",
    "    f1 = f1_score(Y, predictions)\n",
    "    auc = roc_auc_score(Y, A2)\n",
    "    loss = log_loss(Y, A2)\n",
    "    \n",
    "    print(f\"Accuracy  : {accuracy:.4f}\")\n",
    "    print(f\"Precision : {precision:.4f}\")\n",
    "    print(f\"Recall    : {recall:.4f}\")\n",
    "    print(f\"F1-Score  : {f1:.4f}\")\n",
    "    print(f\"ROC AUC   : {auc:.4f}\")\n",
    "    print(f\"Log Loss  : {loss:.4f}\")\n",
    "    \n",
    "# Function to print the confusion matrix\n",
    "def confusion(pred, y_true, color):\n",
    "    cm = confusion_matrix(y_true.flatten(), pred.flatten())\n",
    "\n",
    "    sns.heatmap(cm, annot=True, fmt=\"d\", cmap=color,\n",
    "                xticklabels=[\"No Disease\", \"Disease\"],\n",
    "                yticklabels=[\"No Disease\", \"Disease\"])\n",
    "    plt.xlabel(\"Predicted\")\n",
    "    plt.ylabel(\"Actual\")\n",
    "    plt.title(\"Confusion Matrix\")\n",
    "    plt.show()"
   ]
  },
  {
   "cell_type": "code",
   "execution_count": 172,
   "id": "def2a016",
   "metadata": {},
   "outputs": [
    {
     "name": "stdout",
     "output_type": "stream",
     "text": [
      "Accuracy  : 0.8840\n",
      "Precision : 0.8911\n",
      "Recall    : 0.9000\n",
      "F1-Score  : 0.8955\n",
      "ROC AUC   : 0.9377\n",
      "Log Loss  : 0.3062\n"
     ]
    },
    {
     "data": {
      "image/png": "[encoded data removed]",
      "text/plain": [
       "<Figure size 432x288 with 2 Axes>"
      ]
     },
     "metadata": {
      "needs_background": "light"
     },
     "output_type": "display_data"
    }
   ],
   "source": [
    "test_predictions, A2 = make_predictions(X_test, W1, b1, W2, b2)\n",
    "get_metrics(test_predictions.flatten(), A2.flatten(), y_test.flatten())\n",
    "confusion(test_predictions, y_test, \"Blues\")"
   ]
  },
  {
   "cell_type": "code",
   "execution_count": 173,
   "id": "d15b6fb6",
   "metadata": {},
   "outputs": [
    {
     "name": "stdout",
     "output_type": "stream",
     "text": [
      "Accuracy  : 0.8672\n",
      "Precision : 0.8647\n",
      "Recall    : 0.8995\n",
      "F1-Score  : 0.8818\n",
      "ROC AUC   : 0.9439\n",
      "Log Loss  : 0.2994\n"
     ]
    },
    {
     "data": {
      "image/png": "[encoded data removed]",
      "text/plain": [
       "<Figure size 432x288 with 2 Axes>"
      ]
     },
     "metadata": {
      "needs_background": "light"
     },
     "output_type": "display_data"
    }
   ],
   "source": [
    "# Measure on the training set to see if the model is overfitting\n",
    "train_predictions, A2 = make_predictions(X_train, W1, b1, W2, b2)\n",
    "get_metrics(train_predictions.flatten(), A2.flatten(), y_train.flatten())\n",
    "confusion(train_predictions, y_train, \"Blues\")"
   ]
  },
  {
   "cell_type": "code",
   "execution_count": 174,
   "id": "e9d737b0",
   "metadata": {},
   "outputs": [],
   "source": [
    "from sklearn.base import BaseEstimator, ClassifierMixin\n",
    "\n",
    "# Wrapper class for the neural network to use with scikit-learn\n",
    "class NeuralNetWrapper(BaseEstimator, ClassifierMixin):\n",
    "    def __init__(self, lr=0.003, epochs=25000):\n",
    "        self.lr = lr\n",
    "        self.epochs = epochs\n",
    "\n",
    "    def fit(self, X, y):\n",
    "        self.classes_ = np.unique(y)\n",
    "        X = X.T\n",
    "        y = y.reshape(1, -1)\n",
    "        self.W1, self.b1, self.W2, self.b2 = gradient_descent(self.lr, self.epochs)\n",
    "        return self\n",
    "\n",
    "    def predict_proba(self, X):\n",
    "        X = X.T\n",
    "        _, A2 = make_predictions(X, self.W1, self.b1, self.W2, self.b2)\n",
    "        A2 = A2.T\n",
    "        A2 = np.clip(A2, 1e-15, 1 - 1e-15)\n",
    "        return np.hstack([1 - A2, A2])\n",
    "\n",
    "    def predict(self, X):\n",
    "        return get_predictions(self.predict_proba(X)[:, 1])"
   ]
  },
  {
   "cell_type": "markdown",
   "id": "b0d02a21",
   "metadata": {},
   "source": [
    "## Permutation Feature Importance"
   ]
  },
  {
   "cell_type": "code",
   "execution_count": 175,
   "id": "c2800745",
   "metadata": {},
   "outputs": [],
   "source": [
    "from sklearn.inspection import permutation_importance\n",
    "\n",
    "# Function to calculate and plot feature importance using permutation importance\n",
    "def feature_importance(model):\n",
    "    result = permutation_importance(model, X_test.T, y_test.flatten(), scoring='f1', random_state=8)\n",
    "\n",
    "    importances = result.importances_mean\n",
    "    std = result.importances_std\n",
    "    indices = np.argsort(importances)[::-1]\n",
    "\n",
    "    plt.figure(figsize=(10,6))\n",
    "    plt.bar(range(len(importances)), importances[indices], yerr=std[indices])\n",
    "    plt.xticks(range(len(importances)), np.array(feature_names)[indices], rotation=90)\n",
    "    plt.title(\"Permutation Feature Importance\")\n",
    "    plt.tight_layout()\n",
    "    plt.show()    "
   ]
  },
  {
   "cell_type": "code",
   "execution_count": 176,
   "id": "17054333",
   "metadata": {},
   "outputs": [
    {
     "data": {
      "text/html": [
       "<style>#sk-container-id-11 {color: black;background-color: white;}#sk-container-id-11 pre{padding: 0;}#sk-container-id-11 div.sk-toggleable {background-color: white;}#sk-container-id-11 label.sk-toggleable__label {cursor: pointer;display: block;width: 100%;margin-bottom: 0;padding: 0.3em;box-sizing: border-box;text-align: center;}#sk-container-id-11 label.sk-toggleable__label-arrow:before {content: \"▸\";float: left;margin-right: 0.25em;color: #696969;}#sk-container-id-11 label.sk-toggleable__label-arrow:hover:before {color: black;}#sk-container-id-11 div.sk-estimator:hover label.sk-toggleable__label-arrow:before {color: black;}#sk-container-id-11 div.sk-toggleable__content {max-height: 0;max-width: 0;overflow: hidden;text-align: left;background-color: #f0f8ff;}#sk-container-id-11 div.sk-toggleable__content pre {margin: 0.2em;color: black;border-radius: 0.25em;background-color: #f0f8ff;}#sk-container-id-11 input.sk-toggleable__control:checked~div.sk-toggleable__content {max-height: 200px;max-width: 100%;overflow: auto;}#sk-container-id-11 input.sk-toggleable__control:checked~label.sk-toggleable__label-arrow:before {content: \"▾\";}#sk-container-id-11 div.sk-estimator input.sk-toggleable__control:checked~label.sk-toggleable__label {background-color: #d4ebff;}#sk-container-id-11 div.sk-label input.sk-toggleable__control:checked~label.sk-toggleable__label {background-color: #d4ebff;}#sk-container-id-11 input.sk-hidden--visually {border: 0;clip: rect(1px 1px 1px 1px);clip: rect(1px, 1px, 1px, 1px);height: 1px;margin: -1px;overflow: hidden;padding: 0;position: absolute;width: 1px;}#sk-container-id-11 div.sk-estimator {font-family: monospace;background-color: #f0f8ff;border: 1px dotted black;border-radius: 0.25em;box-sizing: border-box;margin-bottom: 0.5em;}#sk-container-id-11 div.sk-estimator:hover {background-color: #d4ebff;}#sk-container-id-11 div.sk-parallel-item::after {content: \"\";width: 100%;border-bottom: 1px solid gray;flex-grow: 1;}#sk-container-id-11 div.sk-label:hover label.sk-toggleable__label {background-color: #d4ebff;}#sk-container-id-11 div.sk-serial::before {content: \"\";position: absolute;border-left: 1px solid gray;box-sizing: border-box;top: 0;bottom: 0;left: 50%;z-index: 0;}#sk-container-id-11 div.sk-serial {display: flex;flex-direction: column;align-items: center;background-color: white;padding-right: 0.2em;padding-left: 0.2em;position: relative;}#sk-container-id-11 div.sk-item {position: relative;z-index: 1;}#sk-container-id-11 div.sk-parallel {display: flex;align-items: stretch;justify-content: center;background-color: white;position: relative;}#sk-container-id-11 div.sk-item::before, #sk-container-id-11 div.sk-parallel-item::before {content: \"\";position: absolute;border-left: 1px solid gray;box-sizing: border-box;top: 0;bottom: 0;left: 50%;z-index: -1;}#sk-container-id-11 div.sk-parallel-item {display: flex;flex-direction: column;z-index: 1;position: relative;background-color: white;}#sk-container-id-11 div.sk-parallel-item:first-child::after {align-self: flex-end;width: 50%;}#sk-container-id-11 div.sk-parallel-item:last-child::after {align-self: flex-start;width: 50%;}#sk-container-id-11 div.sk-parallel-item:only-child::after {width: 0;}#sk-container-id-11 div.sk-dashed-wrapped {border: 1px dashed gray;margin: 0 0.4em 0.5em 0.4em;box-sizing: border-box;padding-bottom: 0.4em;background-color: white;}#sk-container-id-11 div.sk-label label {font-family: monospace;font-weight: bold;display: inline-block;line-height: 1.2em;}#sk-container-id-11 div.sk-label-container {text-align: center;}#sk-container-id-11 div.sk-container {/* jupyter's `normalize.less` sets `[hidden] { display: none; }` but bootstrap.min.css set `[hidden] { display: none !important; }` so we also need the `!important` here to be able to override the default hidden behavior on the sphinx rendered scikit-learn.org. See: https://github.com/scikit-learn/scikit-learn/issues/21755 */display: inline-block !important;position: relative;}#sk-container-id-11 div.sk-text-repr-fallback {display: none;}</style><div id=\"sk-container-id-11\" class=\"sk-top-container\"><div class=\"sk-text-repr-fallback\"><pre>NeuralNetWrapper(epochs=50000)</pre><b>In a Jupyter environment, please rerun this cell to show the HTML representation or trust the notebook. <br />On GitHub, the HTML representation is unable to render, please try loading this page with nbviewer.org.</b></div><div class=\"sk-container\" hidden><div class=\"sk-item\"><div class=\"sk-estimator sk-toggleable\"><input class=\"sk-toggleable__control sk-hidden--visually\" id=\"sk-estimator-id-11\" type=\"checkbox\" checked><label for=\"sk-estimator-id-11\" class=\"sk-toggleable__label sk-toggleable__label-arrow\">NeuralNetWrapper</label><div class=\"sk-toggleable__content\"><pre>NeuralNetWrapper(epochs=50000)</pre></div></div></div></div></div>"
      ],
      "text/plain": [
       "NeuralNetWrapper(epochs=50000)"
      ]
     },
     "execution_count": 176,
     "metadata": {},
     "output_type": "execute_result"
    }
   ],
   "source": [
    "ann_model = NeuralNetWrapper(epochs=50000)\n",
    "ann_model.fit(X_train, y_train.flatten()) "
   ]
  },
  {
   "cell_type": "code",
   "execution_count": 177,
   "id": "93b007e3",
   "metadata": {},
   "outputs": [],
   "source": [
    "# def predict_prob(X): \n",
    "#     X = X.T\n",
    "#     _, _, _, A2 = forward_prop(W1, b1, W2, b2, X)\n",
    "#     return A2.T  "
   ]
  },
  {
   "cell_type": "code",
   "execution_count": 178,
   "id": "2944489b",
   "metadata": {},
   "outputs": [],
   "source": [
    "# import shap\n",
    "\n",
    "# # Use a small representative background set for speed\n",
    "# background = X_train.T[np.random.choice(X_train.shape[1], 100, replace=False)]\n",
    "\n",
    "# explainer = shap.KernelExplainer(predict_prob, background, seed=8)\n",
    "\n",
    "# # Explain predictions for a few test samples\n",
    "# shap_values = explainer.shap_values(X_test.T[:50])  # Shape: (1, n_samples, n_features)\n",
    "\n",
    "# shap.summary_plot(shap_values[0], X_test.T[:50], feature_names=feature_names)"
   ]
  },
  {
   "cell_type": "markdown",
   "id": "59e6021a",
   "metadata": {},
   "source": [
    "<!-- Y-axis:\n",
    "\n",
    "    Feature names, sorted top to bottom by importance (mean absolute SHAP value).\n",
    "\n",
    "    Features at the top (e.g., ST_Slope_Up, ST_Slope_Flat, ChestPainType_ASY) have the strongest influence on predictions.\n",
    "\n",
    "X-axis:\n",
    "\n",
    "    SHAP value = how much that feature pushes the prediction toward heart disease (right) or no disease (left) for a given sample.\n",
    "\n",
    "    A value of +0.10 means that feature contributes strongly toward predicting heart disease for that sample.\n",
    "\n",
    "    A value of -0.10 means it contributes toward predicting no disease.\n",
    "\n",
    "Color:\n",
    "\n",
    "    Red = high feature value\n",
    "\n",
    "    Blue = low feature value -->"
   ]
  },
  {
   "cell_type": "markdown",
   "id": "df76455b",
   "metadata": {},
   "source": [
    "## Random Forest"
   ]
  },
  {
   "cell_type": "code",
   "execution_count": 179,
   "id": "e96e17b6",
   "metadata": {},
   "outputs": [
    {
     "data": {
      "text/html": [
       "<style>#sk-container-id-12 {color: black;background-color: white;}#sk-container-id-12 pre{padding: 0;}#sk-container-id-12 div.sk-toggleable {background-color: white;}#sk-container-id-12 label.sk-toggleable__label {cursor: pointer;display: block;width: 100%;margin-bottom: 0;padding: 0.3em;box-sizing: border-box;text-align: center;}#sk-container-id-12 label.sk-toggleable__label-arrow:before {content: \"▸\";float: left;margin-right: 0.25em;color: #696969;}#sk-container-id-12 label.sk-toggleable__label-arrow:hover:before {color: black;}#sk-container-id-12 div.sk-estimator:hover label.sk-toggleable__label-arrow:before {color: black;}#sk-container-id-12 div.sk-toggleable__content {max-height: 0;max-width: 0;overflow: hidden;text-align: left;background-color: #f0f8ff;}#sk-container-id-12 div.sk-toggleable__content pre {margin: 0.2em;color: black;border-radius: 0.25em;background-color: #f0f8ff;}#sk-container-id-12 input.sk-toggleable__control:checked~div.sk-toggleable__content {max-height: 200px;max-width: 100%;overflow: auto;}#sk-container-id-12 input.sk-toggleable__control:checked~label.sk-toggleable__label-arrow:before {content: \"▾\";}#sk-container-id-12 div.sk-estimator input.sk-toggleable__control:checked~label.sk-toggleable__label {background-color: #d4ebff;}#sk-container-id-12 div.sk-label input.sk-toggleable__control:checked~label.sk-toggleable__label {background-color: #d4ebff;}#sk-container-id-12 input.sk-hidden--visually {border: 0;clip: rect(1px 1px 1px 1px);clip: rect(1px, 1px, 1px, 1px);height: 1px;margin: -1px;overflow: hidden;padding: 0;position: absolute;width: 1px;}#sk-container-id-12 div.sk-estimator {font-family: monospace;background-color: #f0f8ff;border: 1px dotted black;border-radius: 0.25em;box-sizing: border-box;margin-bottom: 0.5em;}#sk-container-id-12 div.sk-estimator:hover {background-color: #d4ebff;}#sk-container-id-12 div.sk-parallel-item::after {content: \"\";width: 100%;border-bottom: 1px solid gray;flex-grow: 1;}#sk-container-id-12 div.sk-label:hover label.sk-toggleable__label {background-color: #d4ebff;}#sk-container-id-12 div.sk-serial::before {content: \"\";position: absolute;border-left: 1px solid gray;box-sizing: border-box;top: 0;bottom: 0;left: 50%;z-index: 0;}#sk-container-id-12 div.sk-serial {display: flex;flex-direction: column;align-items: center;background-color: white;padding-right: 0.2em;padding-left: 0.2em;position: relative;}#sk-container-id-12 div.sk-item {position: relative;z-index: 1;}#sk-container-id-12 div.sk-parallel {display: flex;align-items: stretch;justify-content: center;background-color: white;position: relative;}#sk-container-id-12 div.sk-item::before, #sk-container-id-12 div.sk-parallel-item::before {content: \"\";position: absolute;border-left: 1px solid gray;box-sizing: border-box;top: 0;bottom: 0;left: 50%;z-index: -1;}#sk-container-id-12 div.sk-parallel-item {display: flex;flex-direction: column;z-index: 1;position: relative;background-color: white;}#sk-container-id-12 div.sk-parallel-item:first-child::after {align-self: flex-end;width: 50%;}#sk-container-id-12 div.sk-parallel-item:last-child::after {align-self: flex-start;width: 50%;}#sk-container-id-12 div.sk-parallel-item:only-child::after {width: 0;}#sk-container-id-12 div.sk-dashed-wrapped {border: 1px dashed gray;margin: 0 0.4em 0.5em 0.4em;box-sizing: border-box;padding-bottom: 0.4em;background-color: white;}#sk-container-id-12 div.sk-label label {font-family: monospace;font-weight: bold;display: inline-block;line-height: 1.2em;}#sk-container-id-12 div.sk-label-container {text-align: center;}#sk-container-id-12 div.sk-container {/* jupyter's `normalize.less` sets `[hidden] { display: none; }` but bootstrap.min.css set `[hidden] { display: none !important; }` so we also need the `!important` here to be able to override the default hidden behavior on the sphinx rendered scikit-learn.org. See: https://github.com/scikit-learn/scikit-learn/issues/21755 */display: inline-block !important;position: relative;}#sk-container-id-12 div.sk-text-repr-fallback {display: none;}</style><div id=\"sk-container-id-12\" class=\"sk-top-container\"><div class=\"sk-text-repr-fallback\"><pre>RandomForestClassifier(criterion=&#x27;log_loss&#x27;, max_depth=5, n_estimators=2000,\n",
       "                       oob_score=True, random_state=8)</pre><b>In a Jupyter environment, please rerun this cell to show the HTML representation or trust the notebook. <br />On GitHub, the HTML representation is unable to render, please try loading this page with nbviewer.org.</b></div><div class=\"sk-container\" hidden><div class=\"sk-item\"><div class=\"sk-estimator sk-toggleable\"><input class=\"sk-toggleable__control sk-hidden--visually\" id=\"sk-estimator-id-12\" type=\"checkbox\" checked><label for=\"sk-estimator-id-12\" class=\"sk-toggleable__label sk-toggleable__label-arrow\">RandomForestClassifier</label><div class=\"sk-toggleable__content\"><pre>RandomForestClassifier(criterion=&#x27;log_loss&#x27;, max_depth=5, n_estimators=2000,\n",
       "                       oob_score=True, random_state=8)</pre></div></div></div></div></div>"
      ],
      "text/plain": [
       "RandomForestClassifier(criterion='log_loss', max_depth=5, n_estimators=2000,\n",
       "                       oob_score=True, random_state=8)"
      ]
     },
     "execution_count": 179,
     "metadata": {},
     "output_type": "execute_result"
    }
   ],
   "source": [
    "from sklearn.ensemble import RandomForestClassifier\n",
    "\n",
    "# Create and train the Random Forest model with specified parameters\n",
    "rf_model = RandomForestClassifier(n_estimators=2000, max_depth=5, random_state=8, oob_score=True, bootstrap=True, criterion='log_loss',)\n",
    "rf_model.fit(X_train.T, y_train.flatten())"
   ]
  },
  {
   "cell_type": "code",
   "execution_count": 180,
   "id": "9ddcfed1",
   "metadata": {},
   "outputs": [],
   "source": [
    "y_pred_rf = rf_model.predict(X_test.T)\n",
    "y_prob_rf = rf_model.predict_proba(X_test.T)\n",
    "y_prob_class1 = y_prob_rf[:, 1]"
   ]
  },
  {
   "cell_type": "code",
   "execution_count": 181,
   "id": "ebb71456",
   "metadata": {},
   "outputs": [
    {
     "name": "stdout",
     "output_type": "stream",
     "text": [
      "Accuracy  : 0.8619\n",
      "Precision : 0.8788\n",
      "Recall    : 0.8700\n",
      "F1-Score  : 0.8744\n",
      "ROC AUC   : 0.9453\n",
      "Log Loss  : 0.3184\n"
     ]
    },
    {
     "data": {
      "image/png": "[encoded data removed]",
      "text/plain": [
       "<Figure size 432x288 with 2 Axes>"
      ]
     },
     "metadata": {
      "needs_background": "light"
     },
     "output_type": "display_data"
    }
   ],
   "source": [
    "get_metrics(y_pred_rf.flatten(), y_prob_class1, y_test.flatten())\n",
    "confusion(y_pred_rf, y_test, \"Greens\")"
   ]
  },
  {
   "cell_type": "code",
   "execution_count": 182,
   "id": "d086b67a",
   "metadata": {},
   "outputs": [
    {
     "name": "stdout",
     "output_type": "stream",
     "text": [
      "Accuracy  : 0.8921\n",
      "Precision : 0.8865\n",
      "Recall    : 0.9221\n",
      "F1-Score  : 0.9039\n",
      "ROC AUC   : 0.9631\n",
      "Log Loss  : 0.2772\n"
     ]
    }
   ],
   "source": [
    "# Measure on the training set to see if the model is overfitting\n",
    "y_pred_train = rf_model.predict(X_train.T)\n",
    "y_prob_train = rf_model.predict_proba(X_train.T)[:, 1]\n",
    "\n",
    "get_metrics(y_pred_train, y_prob_train, y_train.flatten())\n"
   ]
  },
  {
   "cell_type": "markdown",
   "id": "127ac140",
   "metadata": {},
   "source": [
    "## XGBoost"
   ]
  },
  {
   "cell_type": "code",
   "execution_count": 183,
   "id": "f552a9b5",
   "metadata": {},
   "outputs": [
    {
     "name": "stdout",
     "output_type": "stream",
     "text": [
      "Fitting 5 folds for each of 200 candidates, totalling 1000 fits\n",
      "Best Parameters:  {'subsample': 1.0, 'reg_lambda': 1.2, 'reg_alpha': 6, 'n_estimators': 450, 'min_child_weight': 3, 'max_depth': 5, 'learning_rate': 0.02, 'colsample_bytree': 0.9}\n",
      "Best Score:  -0.35180878920915937\n"
     ]
    }
   ],
   "source": [
    "import xgboost as xgb\n",
    "from sklearn.model_selection import RandomizedSearchCV\n",
    "\n",
    "# Define the parameter grid for XGBoost\n",
    "param_grid = {\n",
    "    'n_estimators': [100, 200, 300, 400, 450, 500, 550, 600, 700, 800],\n",
    "    'learning_rate': [0.001, 0.005, 0.01, 0.02, 0.03, 0.05],\n",
    "    'max_depth': [3, 5, 6, 7 , 8,9],\n",
    "    'min_child_weight': [1, 2, 2.5, 3, 3.5, 4,5],\n",
    "    'subsample':[1.00], #lower is less complex\n",
    "    'colsample_bytree': [0.9], #lower is less complex\n",
    "    'reg_alpha': [6, 8, 10, 100], # larger values is less overfitting\n",
    "    'reg_lambda': [0.5, 0.7, 1, 1.2, 1.3] # larger values is less overfitting\n",
    "}\n",
    "\n",
    "# Initialize the XGBoost model\n",
    "xgb_model = xgb.XGBClassifier(random_state=8)\n",
    "\n",
    "# Perform Randomized Search with 5 fold Cross-Validation\n",
    "grid_search = RandomizedSearchCV(xgb_model, param_grid, cv=5, scoring='neg_log_loss', n_iter=200, n_jobs=-1, verbose=2, random_state=8)\n",
    "grid_search.fit(X_train.T, y_train.flatten())\n",
    "\n",
    "# Get the best model from the grid search\n",
    "xgb_model = grid_search.best_estimator_\n",
    "\n",
    "print(\"Best Parameters: \", grid_search.best_params_)\n",
    "print(\"Best Score: \", grid_search.best_score_)"
   ]
  },
  {
   "cell_type": "code",
   "execution_count": 184,
   "id": "27522a10",
   "metadata": {},
   "outputs": [],
   "source": [
    "# import sklearn\n",
    "# sklearn.metrics.get_scorer_names()"
   ]
  },
  {
   "cell_type": "code",
   "execution_count": 185,
   "id": "e08f6eec",
   "metadata": {},
   "outputs": [
    {
     "name": "stdout",
     "output_type": "stream",
     "text": [
      "Accuracy  : 0.8840\n",
      "Precision : 0.8990\n",
      "Recall    : 0.8900\n",
      "F1-Score  : 0.8945\n",
      "ROC AUC   : 0.9469\n",
      "Log Loss  : 0.2996\n"
     ]
    },
    {
     "data": {
      "image/png": "[encoded data removed]",
      "text/plain": [
       "<Figure size 432x288 with 2 Axes>"
      ]
     },
     "metadata": {
      "needs_background": "light"
     },
     "output_type": "display_data"
    },
    {
     "name": "stdout",
     "output_type": "stream",
     "text": [
      "Accuracy  : 0.9059\n",
      "Precision : 0.9044\n",
      "Recall    : 0.9271\n",
      "F1-Score  : 0.9156\n",
      "ROC AUC   : 0.9608\n",
      "Log Loss  : 0.2686\n"
     ]
    },
    {
     "data": {
      "image/png": "[encoded data removed]",
      "text/plain": [
       "<Figure size 432x288 with 2 Axes>"
      ]
     },
     "metadata": {
      "needs_background": "light"
     },
     "output_type": "display_data"
    }
   ],
   "source": [
    "y_pred_xgb2 = xgb_model.predict(X_test.T)\n",
    "y_prob_xgb2 = xgb_model.predict_proba(X_test.T)\n",
    "y_prob_xgb2 = y_prob_xgb2[:,1]\n",
    "\n",
    "get_metrics(y_pred_xgb2, y_prob_xgb2, y_test.flatten())\n",
    "confusion(y_pred_xgb2, y_test, \"Reds\")\n",
    "\n",
    "# Measure on the training set to see if the model is overfitting\n",
    "y_pred_xgb = xgb_model.predict(X_train.T)\n",
    "y_prob_xgb = xgb_model.predict_proba(X_train.T)\n",
    "y_prob_xgb = y_prob_xgb[:,1]\n",
    "\n",
    "get_metrics(y_pred_xgb, y_prob_xgb, y_train.flatten())\n",
    "confusion(y_pred_xgb, y_train, \"Reds\")"
   ]
  },
  {
   "cell_type": "code",
   "execution_count": 186,
   "id": "9dbc10cb",
   "metadata": {},
   "outputs": [
    {
     "data": {
      "image/png": "[encoded data removed]",
      "text/plain": [
       "<Figure size 720x432 with 1 Axes>"
      ]
     },
     "metadata": {
      "needs_background": "light"
     },
     "output_type": "display_data"
    },
    {
     "data": {
      "image/png": "[encoded data removed]",
      "text/plain": [
       "<Figure size 720x432 with 1 Axes>"
      ]
     },
     "metadata": {
      "needs_background": "light"
     },
     "output_type": "display_data"
    },
    {
     "data": {
      "image/png": "[encoded data removed]",
      "text/plain": [
       "<Figure size 720x432 with 1 Axes>"
      ]
     },
     "metadata": {
      "needs_background": "light"
     },
     "output_type": "display_data"
    }
   ],
   "source": [
    "feature_importance(ann_model)\n",
    "feature_importance(rf_model)\n",
    "feature_importance(xgb_model)"
   ]
  },
  {
   "cell_type": "markdown",
   "id": "1ee5fd5f",
   "metadata": {},
   "source": [
    "## Comparing the models\n"
   ]
  },
  {
   "cell_type": "code",
   "execution_count": 187,
   "id": "1aa9e1fb",
   "metadata": {},
   "outputs": [],
   "source": [
    "from sklearn.pipeline import Pipeline\n",
    "from sklearn.model_selection import StratifiedKFold\n",
    "\n",
    "# Wrapping ANN model with scaling\n",
    "ann_model_scaled = Pipeline([\n",
    "    ('scaler', StandardScaler()),\n",
    "    ('ann', ann_model) \n",
    "])\n",
    "\n",
    "rf_model_scaled = Pipeline([\n",
    "    ('scaler', StandardScaler()),\n",
    "    ('rf', rf_model)\n",
    "])\n",
    "\n",
    "xgb_model_scaled = Pipeline([\n",
    "    ('scaler', StandardScaler()),\n",
    "    ('xgb', xgb_model)\n",
    "])"
   ]
  },
  {
   "cell_type": "code",
   "execution_count": 188,
   "id": "73ea10e2",
   "metadata": {},
   "outputs": [
    {
     "name": "stdout",
     "output_type": "stream",
     "text": [
      "\n",
      "=== Recall ===\n",
      "ANN Mean:  0.9054 ± 0.0636\n",
      "RF  Mean:  0.9056 ± 0.0467\n",
      "XGB Mean:  0.9056 ± 0.0582\n",
      "\n",
      "=== F1 ===\n",
      "ANN Mean:  0.8988 ± 0.0326\n",
      "RF  Mean:  0.8800 ± 0.0330\n",
      "XGB Mean:  0.8892 ± 0.0352\n",
      "\n",
      "=== Log Loss ===\n",
      "ANN Mean: -0.2926 ± 0.0659\n",
      "RF  Mean: -0.3425 ± 0.0591\n",
      "XGB Mean: -0.3320 ± 0.0715\n",
      "\n",
      "=== AUC ===\n",
      "ANN Mean:  0.9479 ± 0.0299\n",
      "RF  Mean:  0.9309 ± 0.0369\n",
      "XGB Mean:  0.9306 ± 0.0372\n",
      "\n",
      "=== Accuracy ===\n",
      "ANN Mean:  0.8848 ± 0.0471\n",
      "RF  Mean:  0.8639 ± 0.0376\n",
      "XGB Mean:  0.8761 ± 0.0389\n",
      "\n",
      "=== Precision ===\n",
      "ANN Mean:  0.8860 ± 0.0404\n",
      "RF  Mean:  0.8579 ± 0.0444\n",
      "XGB Mean:  0.8768 ± 0.0472\n"
     ]
    }
   ],
   "source": [
    "from sklearn.model_selection import cross_val_score\n",
    "from sklearn.metrics import make_scorer\n",
    "\n",
    "models = {\n",
    "    \"ANN\": ann_model_scaled,\n",
    "    \"RF\": rf_model_scaled,\n",
    "    \"XGB\": xgb_model_scaled\n",
    "}\n",
    "\n",
    "# Define scorer\n",
    "recall_scorer = make_scorer(recall_score)\n",
    "f1_scorer = make_scorer(f1_score)\n",
    "loss_scorer = make_scorer(log_loss, greater_is_better=False, needs_proba=True)\n",
    "auc_scorer = make_scorer(roc_auc_score, needs_proba=True)\n",
    "acc_scorer = make_scorer(accuracy_score)\n",
    "prec_scorer = make_scorer(precision_score)\n",
    "\n",
    "# Number of CV folds\n",
    "# use stratified k-fold to ensure each fold has the same proportion of classes\n",
    "cv_folds = StratifiedKFold(n_splits=15, shuffle=True, random_state=8)\n",
    "\n",
    "# Store scores\n",
    "model_recall_scores = {}\n",
    "model_f1_scores = {}\n",
    "model_loss_scores = {}\n",
    "model_auc_scores = {}\n",
    "model_acc_scores = {}\n",
    "model_prec_scores = {}\n",
    "\n",
    "# Evaluate each model using cross-validation on different metrics and print the mean and standard deviation of the scores\n",
    "# The scores are stored in dictionaries for further analysis or plotting if needed\n",
    "for scorer_name, scorer, scores_dic in zip(\n",
    "    [\"Recall\", \"F1\", \"Log Loss\", \"AUC\", \"Accuracy\", \"Precision\"],\n",
    "    [recall_scorer, f1_scorer, loss_scorer, auc_scorer, acc_scorer, prec_scorer],\n",
    "    [model_recall_scores, model_f1_scores, model_loss_scores, model_auc_scores, model_acc_scores, model_prec_scores]):\n",
    "    print(f\"\\n=== {scorer_name} ===\")\n",
    "    \n",
    "    for name, model in models.items():\n",
    "        scores = cross_val_score(model, X, y, cv=cv_folds, scoring=scorer, n_jobs=-1)\n",
    "        scores_dic[name] = scores\n",
    "        print(f\"{name:<3} Mean: {scores.mean():>7.4f} ± {scores.std():.4f}\")"
   ]
  },
  {
   "cell_type": "code",
   "execution_count": null,
   "id": "1265a369",
   "metadata": {},
   "outputs": [
    {
     "name": "stdout",
     "output_type": "stream",
     "text": [
      "Comparison      Metric         t-value      p-value      Result\n",
      "--------------------------------------------------------------------------------\n",
      "ANN vs RF       Recall         32.0000      0.5812       ❌ Not significant\n",
      "ANN vs XGB      Recall         19.5000      0.7197       ❌ Not significant\n",
      "ANN vs RF       F1             16.0000      0.0219       ✅ Significant (p < 0.05)\n",
      "ANN vs XGB      F1             26.0000      0.1730       ❌ Not significant\n",
      "ANN vs RF       Log Loss        1.0000      0.0001       ✅ Significant (p < 0.05)\n",
      "ANN vs XGB      Log Loss        4.0000      0.0004       ✅ Significant (p < 0.05)\n",
      "ANN vs RF       ROC AUC         3.0000      0.0003       ✅ Significant (p < 0.05)\n",
      "ANN vs XGB      ROC AUC         6.0000      0.0009       ✅ Significant (p < 0.05)\n",
      "ANN vs RF       Accuracy       25.5000      0.0892       ❌ Not significant\n",
      "ANN vs XGB      Accuracy       22.5000      0.3491       ❌ Not significant\n",
      "ANN vs RF       Precision      13.0000      0.0231       ✅ Significant (p < 0.05)\n",
      "ANN vs XGB      Precision      40.5000      0.3028       ❌ Not significant\n"
     ]
    }
   ],
   "source": [
    "from scipy.stats import wilcoxon\n",
    "import warnings\n",
    "warnings.filterwarnings(\"ignore\") # Ignore warnings for cleaner output\n",
    "\n",
    "# Define models and metrics\n",
    "models_to_compare = [\"ANN\", \"RF\", \"XGB\"]\n",
    "metric_scores = {\n",
    "    \"Recall\": model_recall_scores,\n",
    "    \"F1\": model_f1_scores,\n",
    "    \"Log Loss\": model_loss_scores,\n",
    "    \"ROC AUC\": model_auc_scores,\n",
    "    \"Accuracy\": model_acc_scores,\n",
    "    \"Precision\": model_prec_scores\n",
    "}\n",
    "\n",
    "# Collect comparisons\n",
    "comparisons = []\n",
    "for metric_name, score_dict in metric_scores.items():\n",
    "    ann_scores = score_dict[\"ANN\"]\n",
    "    for other_model in [\"RF\", \"XGB\"]:\n",
    "        comparisons.append(\n",
    "            (f\"ANN vs {other_model}\", ann_scores, score_dict[other_model], metric_name)\n",
    "        )\n",
    "\n",
    "# Run wilcoxon test for each comparison and print results\n",
    "print(f\"{'Comparison':<15} {'Metric':<10} {'t-value':>11} {'p-value':>12} {'Result':>11}\")\n",
    "print(\"-\" * 80)\n",
    "for comp, scores1, scores2, metric in comparisons:\n",
    "    t, p = wilcoxon(scores1, scores2)\n",
    "    result = \"      ✅ Significant (p < 0.05)\" if p < 0.05 else \"❌ Not significant\"\n",
    "    print(f\"{comp:<15} {metric:<10} {t:>11.4f} {p:>11.4f} {result:>23}\")"
   ]
  }
 ],
 "metadata": {
  "kernelspec": {
   "display_name": "base",
   "language": "python",
   "name": "python3"
  },
  "language_info": {
   "codemirror_mode": {
    "name": "ipython",
    "version": 3
   },
   "file_extension": ".py",
   "mimetype": "text/x-python",
   "name": "python",
   "nbconvert_exporter": "python",
   "pygments_lexer": "ipython3",
   "version": "3.9.7"
  }
 },
 "nbformat": 4,
 "nbformat_minor": 5
}
